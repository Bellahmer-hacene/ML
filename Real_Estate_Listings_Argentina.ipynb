{
  "nbformat": 4,
  "nbformat_minor": 0,
  "metadata": {
    "colab": {
      "name": "Real Estate Listings Argentina",
      "provenance": [],
      "collapsed_sections": [],
      "include_colab_link": true
    },
    "kernelspec": {
      "name": "python3",
      "display_name": "Python 3"
    }
  },
  "cells": [
    {
      "cell_type": "markdown",
      "metadata": {
        "id": "view-in-github",
        "colab_type": "text"
      },
      "source": [
        "<a href=\"https://colab.research.google.com/github/Bellahmer-hacene/ML/blob/master/Real_Estate_Listings_Argentina.ipynb\" target=\"_parent\"><img src=\"https://colab.research.google.com/assets/colab-badge.svg\" alt=\"Open In Colab\"/></a>"
      ]
    },
    {
      "cell_type": "markdown",
      "metadata": {
        "id": "5NA5tQ2igNmc",
        "colab_type": "text"
      },
      "source": [
        "# Dataset\n",
        "https://data.world/properati/real-estate-listings-argentina"
      ]
    },
    {
      "cell_type": "code",
      "metadata": {
        "id": "z_n6R2e6ldR1",
        "colab_type": "code",
        "colab": {}
      },
      "source": [
        "import tensorflow as tf\n",
        "import pandas as pd\n",
        "import numpy as np\n",
        "import seaborn as sns\n",
        "import matplotlib.pyplot as plt\n",
        "from sklearn.model_selection import train_test_split\n",
        "from sklearn.preprocessing import MinMaxScaler\n",
        "from tensorflow.keras.models import Sequential\n",
        "from tensorflow.keras.layers import Dense, Activation,Dropout\n",
        "from tensorflow.keras.callbacks import EarlyStopping"
      ],
      "execution_count": 0,
      "outputs": []
    },
    {
      "cell_type": "code",
      "metadata": {
        "id": "HCVegBHKlfuC",
        "colab_type": "code",
        "outputId": "b18af4e7-6d9c-4833-b57b-e5f4cff40431",
        "colab": {
          "base_uri": "https://localhost:8080/",
          "height": 74
        }
      },
      "source": [
        "df = pd.read_csv('https://query.data.world/s/rv6wwnpkczxomamscqqhcuyds5ltf6')"
      ],
      "execution_count": 89,
      "outputs": [
        {
          "output_type": "stream",
          "text": [
            "/usr/local/lib/python3.6/dist-packages/IPython/core/interactiveshell.py:2718: DtypeWarning: Columns (19) have mixed types.Specify dtype option on import or set low_memory=False.\n",
            "  interactivity=interactivity, compiler=compiler, result=result)\n"
          ],
          "name": "stderr"
        }
      ]
    },
    {
      "cell_type": "code",
      "metadata": {
        "id": "nisEdRNfAT7T",
        "colab_type": "code",
        "outputId": "1c8a0dbc-1334-4c06-cb73-dd4f45c8f847",
        "colab": {
          "base_uri": "https://localhost:8080/",
          "height": 486
        }
      },
      "source": [
        "df.head()"
      ],
      "execution_count": 90,
      "outputs": [
        {
          "output_type": "execute_result",
          "data": {
            "text/html": [
              "<div>\n",
              "<style scoped>\n",
              "    .dataframe tbody tr th:only-of-type {\n",
              "        vertical-align: middle;\n",
              "    }\n",
              "\n",
              "    .dataframe tbody tr th {\n",
              "        vertical-align: top;\n",
              "    }\n",
              "\n",
              "    .dataframe thead th {\n",
              "        text-align: right;\n",
              "    }\n",
              "</style>\n",
              "<table border=\"1\" class=\"dataframe\">\n",
              "  <thead>\n",
              "    <tr style=\"text-align: right;\">\n",
              "      <th></th>\n",
              "      <th>created_on</th>\n",
              "      <th>operation</th>\n",
              "      <th>property_type</th>\n",
              "      <th>place_name</th>\n",
              "      <th>place_with_parent_names</th>\n",
              "      <th>geonames_id</th>\n",
              "      <th>lat-lon</th>\n",
              "      <th>lat</th>\n",
              "      <th>lon</th>\n",
              "      <th>price</th>\n",
              "      <th>currency</th>\n",
              "      <th>price_aprox_local_currency</th>\n",
              "      <th>price_aprox_usd</th>\n",
              "      <th>surface_total_in_m2</th>\n",
              "      <th>surface_covered_in_m2</th>\n",
              "      <th>price_usd_per_m2</th>\n",
              "      <th>price_per_m2</th>\n",
              "      <th>floor</th>\n",
              "      <th>rooms</th>\n",
              "      <th>expenses</th>\n",
              "      <th>properati_url</th>\n",
              "      <th>description</th>\n",
              "      <th>title</th>\n",
              "      <th>image_thumbnail</th>\n",
              "    </tr>\n",
              "  </thead>\n",
              "  <tbody>\n",
              "    <tr>\n",
              "      <th>0</th>\n",
              "      <td>2012-09-19</td>\n",
              "      <td>sell</td>\n",
              "      <td>house</td>\n",
              "      <td>San Antonio De Padua</td>\n",
              "      <td>|Argentina|Bs.As. G.B.A. Zona Oeste|Merlo|San ...</td>\n",
              "      <td>3429244.0</td>\n",
              "      <td>-34.6566088,-58.8069107</td>\n",
              "      <td>-34.656609</td>\n",
              "      <td>-58.806911</td>\n",
              "      <td>120000.0</td>\n",
              "      <td>USD</td>\n",
              "      <td>1819488.0</td>\n",
              "      <td>120000.0</td>\n",
              "      <td>333.0</td>\n",
              "      <td>93.0</td>\n",
              "      <td>360.360360</td>\n",
              "      <td>1290.322581</td>\n",
              "      <td>NaN</td>\n",
              "      <td>NaN</td>\n",
              "      <td>NaN</td>\n",
              "      <td>http://san-antonio-de-padua.properati.com.ar/u...</td>\n",
              "      <td>CASA CON LOCAL EN VENTA EN PADUA.2 DORMITORIOS...</td>\n",
              "      <td>CASA EN VENTA</td>\n",
              "      <td>https://thumbs-cf.properati.com/4/aKcEetbJUfrn...</td>\n",
              "    </tr>\n",
              "    <tr>\n",
              "      <th>1</th>\n",
              "      <td>2012-10-10</td>\n",
              "      <td>sell</td>\n",
              "      <td>apartment</td>\n",
              "      <td>Villa Crespo</td>\n",
              "      <td>|Argentina|Capital Federal|Villa Crespo|</td>\n",
              "      <td>3427458.0</td>\n",
              "      <td>-34.6036844,-58.3815591</td>\n",
              "      <td>-34.603684</td>\n",
              "      <td>-58.381559</td>\n",
              "      <td>83000.0</td>\n",
              "      <td>USD</td>\n",
              "      <td>1258479.2</td>\n",
              "      <td>83000.0</td>\n",
              "      <td>40.0</td>\n",
              "      <td>40.0</td>\n",
              "      <td>2075.000000</td>\n",
              "      <td>2075.000000</td>\n",
              "      <td>1.0</td>\n",
              "      <td>2.0</td>\n",
              "      <td>300</td>\n",
              "      <td>http://villa-crespo.properati.com.ar/13tz_vent...</td>\n",
              "      <td>2 AMBIENTES, VENTA, VILLA CRESPO1ER PISO POR E...</td>\n",
              "      <td>DEPARTAMENTO EN VENTA</td>\n",
              "      <td>https://thumbs-cf.properati.com/8/ujkSk81S7fhu...</td>\n",
              "    </tr>\n",
              "    <tr>\n",
              "      <th>2</th>\n",
              "      <td>2012-10-22</td>\n",
              "      <td>sell</td>\n",
              "      <td>apartment</td>\n",
              "      <td>San Bernardo</td>\n",
              "      <td>|Argentina|Buenos Aires Costa Atlántica|San Be...</td>\n",
              "      <td>3429228.0</td>\n",
              "      <td>-36.6879204,-56.6780098</td>\n",
              "      <td>-36.687920</td>\n",
              "      <td>-56.678010</td>\n",
              "      <td>49000.0</td>\n",
              "      <td>USD</td>\n",
              "      <td>742957.6</td>\n",
              "      <td>49000.0</td>\n",
              "      <td>47.0</td>\n",
              "      <td>42.0</td>\n",
              "      <td>1042.553191</td>\n",
              "      <td>1166.666667</td>\n",
              "      <td>7.0</td>\n",
              "      <td>3.0</td>\n",
              "      <td>750</td>\n",
              "      <td>http://san-bernardo-buenos-aires-costa-atlanti...</td>\n",
              "      <td>Comodo departamento 3 ambientes ubicado en cal...</td>\n",
              "      <td>DEPARTAMENTO EN VENTA</td>\n",
              "      <td>https://thumbs-cf.properati.com/6/n5yiUwL9Gjw3...</td>\n",
              "    </tr>\n",
              "    <tr>\n",
              "      <th>3</th>\n",
              "      <td>2012-10-22</td>\n",
              "      <td>sell</td>\n",
              "      <td>house</td>\n",
              "      <td>Maschwitz</td>\n",
              "      <td>|Argentina|Bs.As. G.B.A. Zona Norte|Escobar|Ma...</td>\n",
              "      <td>NaN</td>\n",
              "      <td>-34.3938943878,-58.7683713751</td>\n",
              "      <td>-34.393894</td>\n",
              "      <td>-58.768371</td>\n",
              "      <td>200000.0</td>\n",
              "      <td>USD</td>\n",
              "      <td>3032480.0</td>\n",
              "      <td>200000.0</td>\n",
              "      <td>250.0</td>\n",
              "      <td>200.0</td>\n",
              "      <td>800.000000</td>\n",
              "      <td>1000.000000</td>\n",
              "      <td>NaN</td>\n",
              "      <td>4.0</td>\n",
              "      <td>NaN</td>\n",
              "      <td>http://maschwitz.properati.com.ar/1w41_venta_c...</td>\n",
              "      <td>MUY BUENA CASA DE 3/4 DORMITORIOS Y CASA DE HU...</td>\n",
              "      <td>CASA EN VENTA</td>\n",
              "      <td>https://thumbs-cf.properati.com/4/KbG2PtmxJCVy...</td>\n",
              "    </tr>\n",
              "    <tr>\n",
              "      <th>4</th>\n",
              "      <td>2012-10-22</td>\n",
              "      <td>sell</td>\n",
              "      <td>house</td>\n",
              "      <td>San Antonio De Padua</td>\n",
              "      <td>|Argentina|Bs.As. G.B.A. Zona Oeste|Merlo|San ...</td>\n",
              "      <td>3429244.0</td>\n",
              "      <td>-34.668175,-58.6996246</td>\n",
              "      <td>-34.668175</td>\n",
              "      <td>-58.699625</td>\n",
              "      <td>NaN</td>\n",
              "      <td>NaN</td>\n",
              "      <td>NaN</td>\n",
              "      <td>NaN</td>\n",
              "      <td>220.0</td>\n",
              "      <td>220.0</td>\n",
              "      <td>NaN</td>\n",
              "      <td>NaN</td>\n",
              "      <td>NaN</td>\n",
              "      <td>NaN</td>\n",
              "      <td>NaN</td>\n",
              "      <td>http://san-antonio-de-padua.properati.com.ar/2...</td>\n",
              "      <td>CHALET VENTA 4 AMBIENTES PADUA.EXCELENTE CHALE...</td>\n",
              "      <td>CASA EN VENTA</td>\n",
              "      <td>https://thumbs-cf.properati.com/7/3xCBy82O4-k1...</td>\n",
              "    </tr>\n",
              "  </tbody>\n",
              "</table>\n",
              "</div>"
            ],
            "text/plain": [
              "   created_on  ...                                    image_thumbnail\n",
              "0  2012-09-19  ...  https://thumbs-cf.properati.com/4/aKcEetbJUfrn...\n",
              "1  2012-10-10  ...  https://thumbs-cf.properati.com/8/ujkSk81S7fhu...\n",
              "2  2012-10-22  ...  https://thumbs-cf.properati.com/6/n5yiUwL9Gjw3...\n",
              "3  2012-10-22  ...  https://thumbs-cf.properati.com/4/KbG2PtmxJCVy...\n",
              "4  2012-10-22  ...  https://thumbs-cf.properati.com/7/3xCBy82O4-k1...\n",
              "\n",
              "[5 rows x 24 columns]"
            ]
          },
          "metadata": {
            "tags": []
          },
          "execution_count": 90
        }
      ]
    },
    {
      "cell_type": "code",
      "metadata": {
        "id": "Xq9XppgPAgvC",
        "colab_type": "code",
        "colab": {}
      },
      "source": [
        "df = df.drop('image_thumbnail',axis=1)\n",
        "df = df.drop('title',axis=1)\n",
        "df = df.drop('description',axis=1)\n",
        "df = df.drop('properati_url',axis=1)\n",
        "df = df.drop('place_with_parent_names',axis=1)"
      ],
      "execution_count": 0,
      "outputs": []
    },
    {
      "cell_type": "markdown",
      "metadata": {
        "id": "kJHX8cBEg36h",
        "colab_type": "text"
      },
      "source": [
        "#Les prix sont estimer on Dollars(USD) et Peso argentin(ARS)"
      ]
    },
    {
      "cell_type": "code",
      "metadata": {
        "id": "F0isGRkRlhWI",
        "colab_type": "code",
        "outputId": "1eae3e76-42e7-46ef-b6ef-9f1b6f435d61",
        "colab": {
          "base_uri": "https://localhost:8080/",
          "height": 73
        }
      },
      "source": [
        "df['currency'].value_counts()"
      ],
      "execution_count": 92,
      "outputs": [
        {
          "output_type": "execute_result",
          "data": {
            "text/plain": [
              "USD    112799\n",
              "ARS     10350\n",
              "Name: currency, dtype: int64"
            ]
          },
          "metadata": {
            "tags": []
          },
          "execution_count": 92
        }
      ]
    },
    {
      "cell_type": "markdown",
      "metadata": {
        "id": "4GRCgfxjhTMm",
        "colab_type": "text"
      },
      "source": [
        "#Ne garder que les estimation en Dollard (USD)"
      ]
    },
    {
      "cell_type": "code",
      "metadata": {
        "id": "GHIke8gQ7gPT",
        "colab_type": "code",
        "colab": {}
      },
      "source": [
        "indexNames = df[ df['currency'] == 'ARS' ].index\n",
        " \n",
        "df.drop(indexNames , inplace=True)\n",
        "df = df.drop('currency',axis=1)\n",
        "df = df.drop('price_aprox_local_currency',axis=1)\n",
        "df = df.drop('price_per_m2',axis=1)\n",
        "df = df.drop('price_aprox_usd',axis=1)\n",
        "df = df.drop('operation',axis=1)"
      ],
      "execution_count": 0,
      "outputs": []
    },
    {
      "cell_type": "markdown",
      "metadata": {
        "id": "7L-gxchYhiHr",
        "colab_type": "text"
      },
      "source": [
        "#données manquantes"
      ]
    },
    {
      "cell_type": "code",
      "metadata": {
        "id": "n6uxUAKC7vbn",
        "colab_type": "code",
        "outputId": "02a49e38-686d-40a3-d9df-054a74d62cd5",
        "colab": {
          "base_uri": "https://localhost:8080/",
          "height": 298
        }
      },
      "source": [
        "100* df.isnull().sum()/len(df)"
      ],
      "execution_count": 94,
      "outputs": [
        {
          "output_type": "execute_result",
          "data": {
            "text/plain": [
              "created_on                0.000000\n",
              "property_type             0.000000\n",
              "place_name                0.016987\n",
              "geonames_id              15.408647\n",
              "lat-lon                  19.337804\n",
              "lat                      19.337804\n",
              "lon                      19.338543\n",
              "price                    16.686362\n",
              "surface_total_in_m2      35.691812\n",
              "surface_covered_in_m2    21.628089\n",
              "price_usd_per_m2         48.818299\n",
              "floor                    88.541190\n",
              "rooms                    43.915715\n",
              "expenses                 91.865463\n",
              "dtype: float64"
            ]
          },
          "metadata": {
            "tags": []
          },
          "execution_count": 94
        }
      ]
    },
    {
      "cell_type": "code",
      "metadata": {
        "id": "M6AwQlnJ7zfT",
        "colab_type": "code",
        "colab": {}
      },
      "source": [
        "df = df.drop('expenses',axis=1)\n",
        "df = df.drop('floor',axis=1)\n",
        "df = df[df['price'].notna()]\n",
        "df = df[df['rooms'].notna()]\n",
        "df = df[df['price_usd_per_m2'].notna()]\n",
        "df = df[df['lat'].notna()]\n",
        "df = df[df['surface_covered_in_m2'].notna()]\n",
        "df = df.drop('geonames_id',axis=1)\n",
        "df = df.drop('lat-lon',axis=1)"
      ],
      "execution_count": 0,
      "outputs": []
    },
    {
      "cell_type": "code",
      "metadata": {
        "id": "Yf80n248CPqR",
        "colab_type": "code",
        "outputId": "87196f2e-24cb-4f10-b308-a8f724a74078",
        "colab": {
          "base_uri": "https://localhost:8080/",
          "height": 36
        }
      },
      "source": [
        "len(df)"
      ],
      "execution_count": 96,
      "outputs": [
        {
          "output_type": "execute_result",
          "data": {
            "text/plain": [
              "31451"
            ]
          },
          "metadata": {
            "tags": []
          },
          "execution_count": 96
        }
      ]
    },
    {
      "cell_type": "markdown",
      "metadata": {
        "id": "BLV6BGfsqr62",
        "colab_type": "text"
      },
      "source": [
        "#Variables de catégorie"
      ]
    },
    {
      "cell_type": "code",
      "metadata": {
        "id": "opWxyqNm8PRN",
        "colab_type": "code",
        "outputId": "19301691-1444-45ac-a67c-df2e1cef7f4e",
        "colab": {
          "base_uri": "https://localhost:8080/",
          "height": 243
        }
      },
      "source": [
        "df.head()"
      ],
      "execution_count": 97,
      "outputs": [
        {
          "output_type": "execute_result",
          "data": {
            "text/html": [
              "<div>\n",
              "<style scoped>\n",
              "    .dataframe tbody tr th:only-of-type {\n",
              "        vertical-align: middle;\n",
              "    }\n",
              "\n",
              "    .dataframe tbody tr th {\n",
              "        vertical-align: top;\n",
              "    }\n",
              "\n",
              "    .dataframe thead th {\n",
              "        text-align: right;\n",
              "    }\n",
              "</style>\n",
              "<table border=\"1\" class=\"dataframe\">\n",
              "  <thead>\n",
              "    <tr style=\"text-align: right;\">\n",
              "      <th></th>\n",
              "      <th>created_on</th>\n",
              "      <th>property_type</th>\n",
              "      <th>place_name</th>\n",
              "      <th>lat</th>\n",
              "      <th>lon</th>\n",
              "      <th>price</th>\n",
              "      <th>surface_total_in_m2</th>\n",
              "      <th>surface_covered_in_m2</th>\n",
              "      <th>price_usd_per_m2</th>\n",
              "      <th>rooms</th>\n",
              "    </tr>\n",
              "  </thead>\n",
              "  <tbody>\n",
              "    <tr>\n",
              "      <th>1</th>\n",
              "      <td>2012-10-10</td>\n",
              "      <td>apartment</td>\n",
              "      <td>Villa Crespo</td>\n",
              "      <td>-34.603684</td>\n",
              "      <td>-58.381559</td>\n",
              "      <td>83000.0</td>\n",
              "      <td>40.0</td>\n",
              "      <td>40.0</td>\n",
              "      <td>2075.000000</td>\n",
              "      <td>2.0</td>\n",
              "    </tr>\n",
              "    <tr>\n",
              "      <th>2</th>\n",
              "      <td>2012-10-22</td>\n",
              "      <td>apartment</td>\n",
              "      <td>San Bernardo</td>\n",
              "      <td>-36.687920</td>\n",
              "      <td>-56.678010</td>\n",
              "      <td>49000.0</td>\n",
              "      <td>47.0</td>\n",
              "      <td>42.0</td>\n",
              "      <td>1042.553191</td>\n",
              "      <td>3.0</td>\n",
              "    </tr>\n",
              "    <tr>\n",
              "      <th>3</th>\n",
              "      <td>2012-10-22</td>\n",
              "      <td>house</td>\n",
              "      <td>Maschwitz</td>\n",
              "      <td>-34.393894</td>\n",
              "      <td>-58.768371</td>\n",
              "      <td>200000.0</td>\n",
              "      <td>250.0</td>\n",
              "      <td>200.0</td>\n",
              "      <td>800.000000</td>\n",
              "      <td>4.0</td>\n",
              "    </tr>\n",
              "    <tr>\n",
              "      <th>9</th>\n",
              "      <td>2012-12-08</td>\n",
              "      <td>house</td>\n",
              "      <td>Mataderos</td>\n",
              "      <td>-34.654903</td>\n",
              "      <td>-58.488955</td>\n",
              "      <td>170000.0</td>\n",
              "      <td>300.0</td>\n",
              "      <td>103.0</td>\n",
              "      <td>566.666667</td>\n",
              "      <td>5.0</td>\n",
              "    </tr>\n",
              "    <tr>\n",
              "      <th>22</th>\n",
              "      <td>2013-01-22</td>\n",
              "      <td>apartment</td>\n",
              "      <td>Haedo</td>\n",
              "      <td>40.620948</td>\n",
              "      <td>-78.911851</td>\n",
              "      <td>100000.0</td>\n",
              "      <td>43.0</td>\n",
              "      <td>36.0</td>\n",
              "      <td>2325.581395</td>\n",
              "      <td>2.0</td>\n",
              "    </tr>\n",
              "  </tbody>\n",
              "</table>\n",
              "</div>"
            ],
            "text/plain": [
              "    created_on property_type  ... price_usd_per_m2  rooms\n",
              "1   2012-10-10     apartment  ...      2075.000000    2.0\n",
              "2   2012-10-22     apartment  ...      1042.553191    3.0\n",
              "3   2012-10-22         house  ...       800.000000    4.0\n",
              "9   2012-12-08         house  ...       566.666667    5.0\n",
              "22  2013-01-22     apartment  ...      2325.581395    2.0\n",
              "\n",
              "[5 rows x 10 columns]"
            ]
          },
          "metadata": {
            "tags": []
          },
          "execution_count": 97
        }
      ]
    },
    {
      "cell_type": "code",
      "metadata": {
        "id": "qTzUBZR181_6",
        "colab_type": "code",
        "outputId": "8c1bce8b-4b72-40c7-e839-6170beac8d87",
        "colab": {
          "base_uri": "https://localhost:8080/",
          "height": 111
        }
      },
      "source": [
        "df['property_type'].value_counts()"
      ],
      "execution_count": 98,
      "outputs": [
        {
          "output_type": "execute_result",
          "data": {
            "text/plain": [
              "apartment    19287\n",
              "house         9331\n",
              "PH            2636\n",
              "store          197\n",
              "Name: property_type, dtype: int64"
            ]
          },
          "metadata": {
            "tags": []
          },
          "execution_count": 98
        }
      ]
    },
    {
      "cell_type": "code",
      "metadata": {
        "id": "KCXkTFOu8hKX",
        "colab_type": "code",
        "colab": {}
      },
      "source": [
        "df = pd.concat([df,pd.get_dummies(df['property_type'],prefix=\"property_type\")],axis=1)\n",
        "df.drop('property_type', axis=1, inplace=True)"
      ],
      "execution_count": 0,
      "outputs": []
    },
    {
      "cell_type": "code",
      "metadata": {
        "id": "ozr5SEP49AlA",
        "colab_type": "code",
        "outputId": "ed451225-aba2-427b-88d1-9edd63575363",
        "colab": {
          "base_uri": "https://localhost:8080/",
          "height": 243
        }
      },
      "source": [
        "df.head()"
      ],
      "execution_count": 100,
      "outputs": [
        {
          "output_type": "execute_result",
          "data": {
            "text/html": [
              "<div>\n",
              "<style scoped>\n",
              "    .dataframe tbody tr th:only-of-type {\n",
              "        vertical-align: middle;\n",
              "    }\n",
              "\n",
              "    .dataframe tbody tr th {\n",
              "        vertical-align: top;\n",
              "    }\n",
              "\n",
              "    .dataframe thead th {\n",
              "        text-align: right;\n",
              "    }\n",
              "</style>\n",
              "<table border=\"1\" class=\"dataframe\">\n",
              "  <thead>\n",
              "    <tr style=\"text-align: right;\">\n",
              "      <th></th>\n",
              "      <th>created_on</th>\n",
              "      <th>place_name</th>\n",
              "      <th>lat</th>\n",
              "      <th>lon</th>\n",
              "      <th>price</th>\n",
              "      <th>surface_total_in_m2</th>\n",
              "      <th>surface_covered_in_m2</th>\n",
              "      <th>price_usd_per_m2</th>\n",
              "      <th>rooms</th>\n",
              "      <th>property_type_PH</th>\n",
              "      <th>property_type_apartment</th>\n",
              "      <th>property_type_house</th>\n",
              "      <th>property_type_store</th>\n",
              "    </tr>\n",
              "  </thead>\n",
              "  <tbody>\n",
              "    <tr>\n",
              "      <th>1</th>\n",
              "      <td>2012-10-10</td>\n",
              "      <td>Villa Crespo</td>\n",
              "      <td>-34.603684</td>\n",
              "      <td>-58.381559</td>\n",
              "      <td>83000.0</td>\n",
              "      <td>40.0</td>\n",
              "      <td>40.0</td>\n",
              "      <td>2075.000000</td>\n",
              "      <td>2.0</td>\n",
              "      <td>0</td>\n",
              "      <td>1</td>\n",
              "      <td>0</td>\n",
              "      <td>0</td>\n",
              "    </tr>\n",
              "    <tr>\n",
              "      <th>2</th>\n",
              "      <td>2012-10-22</td>\n",
              "      <td>San Bernardo</td>\n",
              "      <td>-36.687920</td>\n",
              "      <td>-56.678010</td>\n",
              "      <td>49000.0</td>\n",
              "      <td>47.0</td>\n",
              "      <td>42.0</td>\n",
              "      <td>1042.553191</td>\n",
              "      <td>3.0</td>\n",
              "      <td>0</td>\n",
              "      <td>1</td>\n",
              "      <td>0</td>\n",
              "      <td>0</td>\n",
              "    </tr>\n",
              "    <tr>\n",
              "      <th>3</th>\n",
              "      <td>2012-10-22</td>\n",
              "      <td>Maschwitz</td>\n",
              "      <td>-34.393894</td>\n",
              "      <td>-58.768371</td>\n",
              "      <td>200000.0</td>\n",
              "      <td>250.0</td>\n",
              "      <td>200.0</td>\n",
              "      <td>800.000000</td>\n",
              "      <td>4.0</td>\n",
              "      <td>0</td>\n",
              "      <td>0</td>\n",
              "      <td>1</td>\n",
              "      <td>0</td>\n",
              "    </tr>\n",
              "    <tr>\n",
              "      <th>9</th>\n",
              "      <td>2012-12-08</td>\n",
              "      <td>Mataderos</td>\n",
              "      <td>-34.654903</td>\n",
              "      <td>-58.488955</td>\n",
              "      <td>170000.0</td>\n",
              "      <td>300.0</td>\n",
              "      <td>103.0</td>\n",
              "      <td>566.666667</td>\n",
              "      <td>5.0</td>\n",
              "      <td>0</td>\n",
              "      <td>0</td>\n",
              "      <td>1</td>\n",
              "      <td>0</td>\n",
              "    </tr>\n",
              "    <tr>\n",
              "      <th>22</th>\n",
              "      <td>2013-01-22</td>\n",
              "      <td>Haedo</td>\n",
              "      <td>40.620948</td>\n",
              "      <td>-78.911851</td>\n",
              "      <td>100000.0</td>\n",
              "      <td>43.0</td>\n",
              "      <td>36.0</td>\n",
              "      <td>2325.581395</td>\n",
              "      <td>2.0</td>\n",
              "      <td>0</td>\n",
              "      <td>1</td>\n",
              "      <td>0</td>\n",
              "      <td>0</td>\n",
              "    </tr>\n",
              "  </tbody>\n",
              "</table>\n",
              "</div>"
            ],
            "text/plain": [
              "    created_on    place_name  ...  property_type_house  property_type_store\n",
              "1   2012-10-10  Villa Crespo  ...                    0                    0\n",
              "2   2012-10-22  San Bernardo  ...                    0                    0\n",
              "3   2012-10-22     Maschwitz  ...                    1                    0\n",
              "9   2012-12-08     Mataderos  ...                    1                    0\n",
              "22  2013-01-22         Haedo  ...                    0                    0\n",
              "\n",
              "[5 rows x 13 columns]"
            ]
          },
          "metadata": {
            "tags": []
          },
          "execution_count": 100
        }
      ]
    },
    {
      "cell_type": "code",
      "metadata": {
        "id": "LLv47NNQ9aMe",
        "colab_type": "code",
        "outputId": "c00adb56-bb71-41cd-dba4-c70def20007d",
        "colab": {
          "base_uri": "https://localhost:8080/",
          "height": 241
        }
      },
      "source": [
        "df['place_name'].value_counts()"
      ],
      "execution_count": 101,
      "outputs": [
        {
          "output_type": "execute_result",
          "data": {
            "text/plain": [
              "Mar del Plata           4082\n",
              "Punta del Este          2287\n",
              "Palermo                 1067\n",
              "Belgrano                 977\n",
              "Montevideo               837\n",
              "                        ... \n",
              "Armenia Country Club       1\n",
              "Zárate                     1\n",
              "Dolores                    1\n",
              "Cañuelas                   1\n",
              "Laguna del Sol             1\n",
              "Name: place_name, Length: 558, dtype: int64"
            ]
          },
          "metadata": {
            "tags": []
          },
          "execution_count": 101
        }
      ]
    },
    {
      "cell_type": "code",
      "metadata": {
        "id": "kbtiwz4WACWA",
        "colab_type": "code",
        "outputId": "f795605f-036a-4cc3-d3d2-fba76f71f8ea",
        "colab": {
          "base_uri": "https://localhost:8080/",
          "height": 241
        }
      },
      "source": [
        "df.corr()['price'].sort_values()"
      ],
      "execution_count": 102,
      "outputs": [
        {
          "output_type": "execute_result",
          "data": {
            "text/plain": [
              "property_type_apartment   -0.137444\n",
              "property_type_PH          -0.072158\n",
              "lat                        0.034295\n",
              "property_type_store        0.055202\n",
              "lon                        0.111980\n",
              "property_type_house        0.180774\n",
              "price_usd_per_m2           0.297584\n",
              "surface_total_in_m2        0.309192\n",
              "rooms                      0.359765\n",
              "surface_covered_in_m2      0.508136\n",
              "price                      1.000000\n",
              "Name: price, dtype: float64"
            ]
          },
          "metadata": {
            "tags": []
          },
          "execution_count": 102
        }
      ]
    },
    {
      "cell_type": "code",
      "metadata": {
        "id": "iT3V5vfVEtCB",
        "colab_type": "code",
        "colab": {}
      },
      "source": [
        "df2 = df"
      ],
      "execution_count": 0,
      "outputs": []
    },
    {
      "cell_type": "code",
      "metadata": {
        "id": "SMxYfHj8FEQH",
        "colab_type": "code",
        "colab": {}
      },
      "source": [
        "counts = df2['place_name'].value_counts()\n",
        "df2= df2[~df2['place_name'].isin(counts[counts < 100].index)]"
      ],
      "execution_count": 0,
      "outputs": []
    },
    {
      "cell_type": "code",
      "metadata": {
        "id": "UtUb_cWmGfZw",
        "colab_type": "code",
        "outputId": "ee659fe3-1d2b-43ec-b815-22eb83cfff85",
        "colab": {
          "base_uri": "https://localhost:8080/",
          "height": 241
        }
      },
      "source": [
        "df2['place_name'].value_counts()"
      ],
      "execution_count": 105,
      "outputs": [
        {
          "output_type": "execute_result",
          "data": {
            "text/plain": [
              "Mar del Plata           4082\n",
              "Punta del Este          2287\n",
              "Palermo                 1067\n",
              "Belgrano                 977\n",
              "Montevideo               837\n",
              "                        ... \n",
              "Martínez                 120\n",
              "San Cristobal            119\n",
              "Santos Lugares           116\n",
              "Floresta                 110\n",
              "San Antonio De Padua     102\n",
              "Name: place_name, Length: 62, dtype: int64"
            ]
          },
          "metadata": {
            "tags": []
          },
          "execution_count": 105
        }
      ]
    },
    {
      "cell_type": "code",
      "metadata": {
        "id": "hO8FrH3ZHnEG",
        "colab_type": "code",
        "outputId": "8194653c-2a07-4b08-9eb6-acb75922b9c3",
        "colab": {
          "base_uri": "https://localhost:8080/",
          "height": 36
        }
      },
      "source": [
        "len(df2)"
      ],
      "execution_count": 106,
      "outputs": [
        {
          "output_type": "execute_result",
          "data": {
            "text/plain": [
              "25360"
            ]
          },
          "metadata": {
            "tags": []
          },
          "execution_count": 106
        }
      ]
    },
    {
      "cell_type": "code",
      "metadata": {
        "id": "vIWhr3mKHtYb",
        "colab_type": "code",
        "colab": {}
      },
      "source": [
        "df2 = pd.concat([df2,pd.get_dummies(df2['place_name'],prefix=\"place_name\")],axis=1)\n",
        "df2.drop('place_name', axis=1, inplace=True)"
      ],
      "execution_count": 0,
      "outputs": []
    },
    {
      "cell_type": "code",
      "metadata": {
        "id": "U0Mz9aWWH7My",
        "colab_type": "code",
        "outputId": "69979581-031f-4732-b8fc-66cae243ac1d",
        "colab": {
          "base_uri": "https://localhost:8080/",
          "height": 241
        }
      },
      "source": [
        "df2.corr()['price'].sort_values()"
      ],
      "execution_count": 108,
      "outputs": [
        {
          "output_type": "execute_result",
          "data": {
            "text/plain": [
              "property_type_apartment         -0.144899\n",
              "place_name_Mar del Plata        -0.119411\n",
              "property_type_PH                -0.066933\n",
              "place_name_Caseros              -0.054975\n",
              "place_name_General San Martín   -0.049949\n",
              "                                   ...   \n",
              "place_name_Punta del Este        0.319075\n",
              "surface_total_in_m2              0.336928\n",
              "rooms                            0.367983\n",
              "surface_covered_in_m2            0.584628\n",
              "price                            1.000000\n",
              "Name: price, Length: 73, dtype: float64"
            ]
          },
          "metadata": {
            "tags": []
          },
          "execution_count": 108
        }
      ]
    },
    {
      "cell_type": "code",
      "metadata": {
        "id": "1i0yV03AH-G2",
        "colab_type": "code",
        "colab": {}
      },
      "source": [
        "df = df2"
      ],
      "execution_count": 0,
      "outputs": []
    },
    {
      "cell_type": "code",
      "metadata": {
        "id": "w93qgUomJCYa",
        "colab_type": "code",
        "outputId": "4a6e1f68-94ce-448c-b219-03bb08c42086",
        "colab": {
          "base_uri": "https://localhost:8080/",
          "height": 527
        }
      },
      "source": [
        "plt.figure(figsize=(12,8))\n",
        "sns.distplot(df['price'])"
      ],
      "execution_count": 110,
      "outputs": [
        {
          "output_type": "execute_result",
          "data": {
            "text/plain": [
              "<matplotlib.axes._subplots.AxesSubplot at 0x7f3c6db9cb38>"
            ]
          },
          "metadata": {
            "tags": []
          },
          "execution_count": 110
        },
        {
          "output_type": "display_data",
          "data": {
            "image/png": "[encoded data removed]",
            "text/plain": [
              "<Figure size 864x576 with 1 Axes>"
            ]
          },
          "metadata": {
            "tags": [],
            "needs_background": "light"
          }
        }
      ]
    },
    {
      "cell_type": "code",
      "metadata": {
        "id": "YTg3i8kyJNta",
        "colab_type": "code",
        "outputId": "7d0666e1-1a97-4ccc-9706-65b13b095a39",
        "colab": {
          "base_uri": "https://localhost:8080/",
          "height": 36
        }
      },
      "source": [
        "df['price'].mean()"
      ],
      "execution_count": 111,
      "outputs": [
        {
          "output_type": "execute_result",
          "data": {
            "text/plain": [
              "247578.8089511041"
            ]
          },
          "metadata": {
            "tags": []
          },
          "execution_count": 111
        }
      ]
    },
    {
      "cell_type": "code",
      "metadata": {
        "id": "2Irg2irzJgdD",
        "colab_type": "code",
        "outputId": "c3713f68-76ba-4dfb-9e3c-96ee8d585b7e",
        "colab": {
          "base_uri": "https://localhost:8080/",
          "height": 36
        }
      },
      "source": [
        "df['price'].median()"
      ],
      "execution_count": 112,
      "outputs": [
        {
          "output_type": "execute_result",
          "data": {
            "text/plain": [
              "149000.0"
            ]
          },
          "metadata": {
            "tags": []
          },
          "execution_count": 112
        }
      ]
    },
    {
      "cell_type": "code",
      "metadata": {
        "id": "31ui6836JXhv",
        "colab_type": "code",
        "outputId": "5232251c-8631-40e1-cfa4-63e5f4160f54",
        "colab": {
          "base_uri": "https://localhost:8080/",
          "height": 261
        }
      },
      "source": [
        "df.sort_values('price',ascending=False).head()"
      ],
      "execution_count": 113,
      "outputs": [
        {
          "output_type": "execute_result",
          "data": {
            "text/html": [
              "<div>\n",
              "<style scoped>\n",
              "    .dataframe tbody tr th:only-of-type {\n",
              "        vertical-align: middle;\n",
              "    }\n",
              "\n",
              "    .dataframe tbody tr th {\n",
              "        vertical-align: top;\n",
              "    }\n",
              "\n",
              "    .dataframe thead th {\n",
              "        text-align: right;\n",
              "    }\n",
              "</style>\n",
              "<table border=\"1\" class=\"dataframe\">\n",
              "  <thead>\n",
              "    <tr style=\"text-align: right;\">\n",
              "      <th></th>\n",
              "      <th>created_on</th>\n",
              "      <th>lat</th>\n",
              "      <th>lon</th>\n",
              "      <th>price</th>\n",
              "      <th>surface_total_in_m2</th>\n",
              "      <th>surface_covered_in_m2</th>\n",
              "      <th>price_usd_per_m2</th>\n",
              "      <th>rooms</th>\n",
              "      <th>property_type_PH</th>\n",
              "      <th>property_type_apartment</th>\n",
              "      <th>property_type_house</th>\n",
              "      <th>property_type_store</th>\n",
              "      <th>place_name_Almagro</th>\n",
              "      <th>place_name_Bahía Blanca</th>\n",
              "      <th>place_name_Balvanera</th>\n",
              "      <th>place_name_Banfield</th>\n",
              "      <th>place_name_Barracas</th>\n",
              "      <th>place_name_Barrio Norte</th>\n",
              "      <th>place_name_Belgrano</th>\n",
              "      <th>place_name_Boca</th>\n",
              "      <th>place_name_Caballito</th>\n",
              "      <th>place_name_Caseros</th>\n",
              "      <th>place_name_Castelar</th>\n",
              "      <th>place_name_Centro / Microcentro</th>\n",
              "      <th>place_name_Colegiales</th>\n",
              "      <th>place_name_Congreso</th>\n",
              "      <th>place_name_Córdoba</th>\n",
              "      <th>place_name_Escobar</th>\n",
              "      <th>place_name_Flores</th>\n",
              "      <th>place_name_Floresta</th>\n",
              "      <th>place_name_Florida</th>\n",
              "      <th>place_name_General San Martín</th>\n",
              "      <th>place_name_Haedo</th>\n",
              "      <th>place_name_Ituzaingó</th>\n",
              "      <th>place_name_La Matanza</th>\n",
              "      <th>place_name_La Plata</th>\n",
              "      <th>place_name_Lanús</th>\n",
              "      <th>place_name_Lomas de Zamora</th>\n",
              "      <th>place_name_Maldonado</th>\n",
              "      <th>place_name_Mar del Plata</th>\n",
              "      <th>place_name_Martínez</th>\n",
              "      <th>place_name_Mataderos</th>\n",
              "      <th>place_name_Monserrat</th>\n",
              "      <th>place_name_Montevideo</th>\n",
              "      <th>place_name_Morón</th>\n",
              "      <th>place_name_Nordelta</th>\n",
              "      <th>place_name_Nuñez</th>\n",
              "      <th>place_name_Olivos</th>\n",
              "      <th>place_name_Once</th>\n",
              "      <th>place_name_Palermo</th>\n",
              "      <th>place_name_Palermo Hollywood</th>\n",
              "      <th>place_name_Pilar</th>\n",
              "      <th>place_name_Pinamar</th>\n",
              "      <th>place_name_Puerto Madero</th>\n",
              "      <th>place_name_Punta del Este</th>\n",
              "      <th>place_name_Ramos Mejía</th>\n",
              "      <th>place_name_Recoleta</th>\n",
              "      <th>place_name_Saavedra</th>\n",
              "      <th>place_name_San Antonio De Padua</th>\n",
              "      <th>place_name_San Cristobal</th>\n",
              "      <th>place_name_San Fernando</th>\n",
              "      <th>place_name_San Isidro</th>\n",
              "      <th>place_name_San Justo</th>\n",
              "      <th>place_name_San Miguel</th>\n",
              "      <th>place_name_San Telmo</th>\n",
              "      <th>place_name_Santos Lugares</th>\n",
              "      <th>place_name_Tigre</th>\n",
              "      <th>place_name_Tres de Febrero</th>\n",
              "      <th>place_name_Vicente López</th>\n",
              "      <th>place_name_Villa Ballester</th>\n",
              "      <th>place_name_Villa Crespo</th>\n",
              "      <th>place_name_Villa Devoto</th>\n",
              "      <th>place_name_Villa Urquiza</th>\n",
              "      <th>place_name_Villa del Parque</th>\n",
              "    </tr>\n",
              "  </thead>\n",
              "  <tbody>\n",
              "    <tr>\n",
              "      <th>43318</th>\n",
              "      <td>2015-10-20</td>\n",
              "      <td>-34.936879</td>\n",
              "      <td>-54.928150</td>\n",
              "      <td>25000000.0</td>\n",
              "      <td>130000.0</td>\n",
              "      <td>4000.0</td>\n",
              "      <td>192.307692</td>\n",
              "      <td>10.0</td>\n",
              "      <td>0</td>\n",
              "      <td>0</td>\n",
              "      <td>1</td>\n",
              "      <td>0</td>\n",
              "      <td>0</td>\n",
              "      <td>0</td>\n",
              "      <td>0</td>\n",
              "      <td>0</td>\n",
              "      <td>0</td>\n",
              "      <td>0</td>\n",
              "      <td>0</td>\n",
              "      <td>0</td>\n",
              "      <td>0</td>\n",
              "      <td>0</td>\n",
              "      <td>0</td>\n",
              "      <td>0</td>\n",
              "      <td>0</td>\n",
              "      <td>0</td>\n",
              "      <td>0</td>\n",
              "      <td>0</td>\n",
              "      <td>0</td>\n",
              "      <td>0</td>\n",
              "      <td>0</td>\n",
              "      <td>0</td>\n",
              "      <td>0</td>\n",
              "      <td>0</td>\n",
              "      <td>0</td>\n",
              "      <td>0</td>\n",
              "      <td>0</td>\n",
              "      <td>0</td>\n",
              "      <td>0</td>\n",
              "      <td>0</td>\n",
              "      <td>0</td>\n",
              "      <td>0</td>\n",
              "      <td>0</td>\n",
              "      <td>0</td>\n",
              "      <td>0</td>\n",
              "      <td>0</td>\n",
              "      <td>0</td>\n",
              "      <td>0</td>\n",
              "      <td>0</td>\n",
              "      <td>0</td>\n",
              "      <td>0</td>\n",
              "      <td>0</td>\n",
              "      <td>0</td>\n",
              "      <td>0</td>\n",
              "      <td>1</td>\n",
              "      <td>0</td>\n",
              "      <td>0</td>\n",
              "      <td>0</td>\n",
              "      <td>0</td>\n",
              "      <td>0</td>\n",
              "      <td>0</td>\n",
              "      <td>0</td>\n",
              "      <td>0</td>\n",
              "      <td>0</td>\n",
              "      <td>0</td>\n",
              "      <td>0</td>\n",
              "      <td>0</td>\n",
              "      <td>0</td>\n",
              "      <td>0</td>\n",
              "      <td>0</td>\n",
              "      <td>0</td>\n",
              "      <td>0</td>\n",
              "      <td>0</td>\n",
              "      <td>0</td>\n",
              "    </tr>\n",
              "    <tr>\n",
              "      <th>109757</th>\n",
              "      <td>2016-08-25</td>\n",
              "      <td>-34.904653</td>\n",
              "      <td>-54.966112</td>\n",
              "      <td>13000000.0</td>\n",
              "      <td>12000.0</td>\n",
              "      <td>870.0</td>\n",
              "      <td>1083.333333</td>\n",
              "      <td>8.0</td>\n",
              "      <td>0</td>\n",
              "      <td>0</td>\n",
              "      <td>1</td>\n",
              "      <td>0</td>\n",
              "      <td>0</td>\n",
              "      <td>0</td>\n",
              "      <td>0</td>\n",
              "      <td>0</td>\n",
              "      <td>0</td>\n",
              "      <td>0</td>\n",
              "      <td>0</td>\n",
              "      <td>0</td>\n",
              "      <td>0</td>\n",
              "      <td>0</td>\n",
              "      <td>0</td>\n",
              "      <td>0</td>\n",
              "      <td>0</td>\n",
              "      <td>0</td>\n",
              "      <td>0</td>\n",
              "      <td>0</td>\n",
              "      <td>0</td>\n",
              "      <td>0</td>\n",
              "      <td>0</td>\n",
              "      <td>0</td>\n",
              "      <td>0</td>\n",
              "      <td>0</td>\n",
              "      <td>0</td>\n",
              "      <td>0</td>\n",
              "      <td>0</td>\n",
              "      <td>0</td>\n",
              "      <td>0</td>\n",
              "      <td>0</td>\n",
              "      <td>0</td>\n",
              "      <td>0</td>\n",
              "      <td>0</td>\n",
              "      <td>0</td>\n",
              "      <td>0</td>\n",
              "      <td>0</td>\n",
              "      <td>0</td>\n",
              "      <td>0</td>\n",
              "      <td>0</td>\n",
              "      <td>0</td>\n",
              "      <td>0</td>\n",
              "      <td>0</td>\n",
              "      <td>0</td>\n",
              "      <td>0</td>\n",
              "      <td>1</td>\n",
              "      <td>0</td>\n",
              "      <td>0</td>\n",
              "      <td>0</td>\n",
              "      <td>0</td>\n",
              "      <td>0</td>\n",
              "      <td>0</td>\n",
              "      <td>0</td>\n",
              "      <td>0</td>\n",
              "      <td>0</td>\n",
              "      <td>0</td>\n",
              "      <td>0</td>\n",
              "      <td>0</td>\n",
              "      <td>0</td>\n",
              "      <td>0</td>\n",
              "      <td>0</td>\n",
              "      <td>0</td>\n",
              "      <td>0</td>\n",
              "      <td>0</td>\n",
              "      <td>0</td>\n",
              "    </tr>\n",
              "    <tr>\n",
              "      <th>69790</th>\n",
              "      <td>2016-04-23</td>\n",
              "      <td>-34.936879</td>\n",
              "      <td>-54.928150</td>\n",
              "      <td>12000000.0</td>\n",
              "      <td>367.0</td>\n",
              "      <td>367.0</td>\n",
              "      <td>32697.547684</td>\n",
              "      <td>7.0</td>\n",
              "      <td>0</td>\n",
              "      <td>0</td>\n",
              "      <td>1</td>\n",
              "      <td>0</td>\n",
              "      <td>0</td>\n",
              "      <td>0</td>\n",
              "      <td>0</td>\n",
              "      <td>0</td>\n",
              "      <td>0</td>\n",
              "      <td>0</td>\n",
              "      <td>0</td>\n",
              "      <td>0</td>\n",
              "      <td>0</td>\n",
              "      <td>0</td>\n",
              "      <td>0</td>\n",
              "      <td>0</td>\n",
              "      <td>0</td>\n",
              "      <td>0</td>\n",
              "      <td>0</td>\n",
              "      <td>0</td>\n",
              "      <td>0</td>\n",
              "      <td>0</td>\n",
              "      <td>0</td>\n",
              "      <td>0</td>\n",
              "      <td>0</td>\n",
              "      <td>0</td>\n",
              "      <td>0</td>\n",
              "      <td>0</td>\n",
              "      <td>0</td>\n",
              "      <td>0</td>\n",
              "      <td>0</td>\n",
              "      <td>0</td>\n",
              "      <td>0</td>\n",
              "      <td>0</td>\n",
              "      <td>0</td>\n",
              "      <td>0</td>\n",
              "      <td>0</td>\n",
              "      <td>0</td>\n",
              "      <td>0</td>\n",
              "      <td>0</td>\n",
              "      <td>0</td>\n",
              "      <td>0</td>\n",
              "      <td>0</td>\n",
              "      <td>0</td>\n",
              "      <td>0</td>\n",
              "      <td>0</td>\n",
              "      <td>1</td>\n",
              "      <td>0</td>\n",
              "      <td>0</td>\n",
              "      <td>0</td>\n",
              "      <td>0</td>\n",
              "      <td>0</td>\n",
              "      <td>0</td>\n",
              "      <td>0</td>\n",
              "      <td>0</td>\n",
              "      <td>0</td>\n",
              "      <td>0</td>\n",
              "      <td>0</td>\n",
              "      <td>0</td>\n",
              "      <td>0</td>\n",
              "      <td>0</td>\n",
              "      <td>0</td>\n",
              "      <td>0</td>\n",
              "      <td>0</td>\n",
              "      <td>0</td>\n",
              "      <td>0</td>\n",
              "    </tr>\n",
              "    <tr>\n",
              "      <th>143100</th>\n",
              "      <td>2016-10-28</td>\n",
              "      <td>-34.463217</td>\n",
              "      <td>-58.556603</td>\n",
              "      <td>11111111.0</td>\n",
              "      <td>1902.0</td>\n",
              "      <td>404.0</td>\n",
              "      <td>5841.803891</td>\n",
              "      <td>5.0</td>\n",
              "      <td>0</td>\n",
              "      <td>0</td>\n",
              "      <td>1</td>\n",
              "      <td>0</td>\n",
              "      <td>0</td>\n",
              "      <td>0</td>\n",
              "      <td>0</td>\n",
              "      <td>0</td>\n",
              "      <td>0</td>\n",
              "      <td>0</td>\n",
              "      <td>0</td>\n",
              "      <td>0</td>\n",
              "      <td>0</td>\n",
              "      <td>0</td>\n",
              "      <td>0</td>\n",
              "      <td>0</td>\n",
              "      <td>0</td>\n",
              "      <td>0</td>\n",
              "      <td>0</td>\n",
              "      <td>0</td>\n",
              "      <td>0</td>\n",
              "      <td>0</td>\n",
              "      <td>0</td>\n",
              "      <td>0</td>\n",
              "      <td>0</td>\n",
              "      <td>0</td>\n",
              "      <td>0</td>\n",
              "      <td>0</td>\n",
              "      <td>0</td>\n",
              "      <td>0</td>\n",
              "      <td>0</td>\n",
              "      <td>0</td>\n",
              "      <td>0</td>\n",
              "      <td>0</td>\n",
              "      <td>0</td>\n",
              "      <td>0</td>\n",
              "      <td>0</td>\n",
              "      <td>0</td>\n",
              "      <td>0</td>\n",
              "      <td>0</td>\n",
              "      <td>0</td>\n",
              "      <td>0</td>\n",
              "      <td>0</td>\n",
              "      <td>0</td>\n",
              "      <td>0</td>\n",
              "      <td>0</td>\n",
              "      <td>0</td>\n",
              "      <td>0</td>\n",
              "      <td>0</td>\n",
              "      <td>0</td>\n",
              "      <td>0</td>\n",
              "      <td>0</td>\n",
              "      <td>0</td>\n",
              "      <td>0</td>\n",
              "      <td>0</td>\n",
              "      <td>0</td>\n",
              "      <td>0</td>\n",
              "      <td>0</td>\n",
              "      <td>1</td>\n",
              "      <td>0</td>\n",
              "      <td>0</td>\n",
              "      <td>0</td>\n",
              "      <td>0</td>\n",
              "      <td>0</td>\n",
              "      <td>0</td>\n",
              "      <td>0</td>\n",
              "    </tr>\n",
              "    <tr>\n",
              "      <th>25831</th>\n",
              "      <td>2015-06-14</td>\n",
              "      <td>-34.447361</td>\n",
              "      <td>-58.631426</td>\n",
              "      <td>9550360.0</td>\n",
              "      <td>137.0</td>\n",
              "      <td>137.0</td>\n",
              "      <td>69710.656934</td>\n",
              "      <td>3.0</td>\n",
              "      <td>0</td>\n",
              "      <td>1</td>\n",
              "      <td>0</td>\n",
              "      <td>0</td>\n",
              "      <td>0</td>\n",
              "      <td>0</td>\n",
              "      <td>0</td>\n",
              "      <td>0</td>\n",
              "      <td>0</td>\n",
              "      <td>0</td>\n",
              "      <td>0</td>\n",
              "      <td>0</td>\n",
              "      <td>0</td>\n",
              "      <td>0</td>\n",
              "      <td>0</td>\n",
              "      <td>0</td>\n",
              "      <td>0</td>\n",
              "      <td>0</td>\n",
              "      <td>0</td>\n",
              "      <td>0</td>\n",
              "      <td>0</td>\n",
              "      <td>0</td>\n",
              "      <td>0</td>\n",
              "      <td>0</td>\n",
              "      <td>0</td>\n",
              "      <td>0</td>\n",
              "      <td>0</td>\n",
              "      <td>0</td>\n",
              "      <td>0</td>\n",
              "      <td>0</td>\n",
              "      <td>0</td>\n",
              "      <td>0</td>\n",
              "      <td>0</td>\n",
              "      <td>0</td>\n",
              "      <td>0</td>\n",
              "      <td>0</td>\n",
              "      <td>0</td>\n",
              "      <td>0</td>\n",
              "      <td>0</td>\n",
              "      <td>0</td>\n",
              "      <td>0</td>\n",
              "      <td>0</td>\n",
              "      <td>0</td>\n",
              "      <td>0</td>\n",
              "      <td>0</td>\n",
              "      <td>0</td>\n",
              "      <td>0</td>\n",
              "      <td>0</td>\n",
              "      <td>0</td>\n",
              "      <td>0</td>\n",
              "      <td>0</td>\n",
              "      <td>0</td>\n",
              "      <td>0</td>\n",
              "      <td>0</td>\n",
              "      <td>0</td>\n",
              "      <td>0</td>\n",
              "      <td>0</td>\n",
              "      <td>0</td>\n",
              "      <td>1</td>\n",
              "      <td>0</td>\n",
              "      <td>0</td>\n",
              "      <td>0</td>\n",
              "      <td>0</td>\n",
              "      <td>0</td>\n",
              "      <td>0</td>\n",
              "      <td>0</td>\n",
              "    </tr>\n",
              "  </tbody>\n",
              "</table>\n",
              "</div>"
            ],
            "text/plain": [
              "        created_on  ...  place_name_Villa del Parque\n",
              "43318   2015-10-20  ...                            0\n",
              "109757  2016-08-25  ...                            0\n",
              "69790   2016-04-23  ...                            0\n",
              "143100  2016-10-28  ...                            0\n",
              "25831   2015-06-14  ...                            0\n",
              "\n",
              "[5 rows x 74 columns]"
            ]
          },
          "metadata": {
            "tags": []
          },
          "execution_count": 113
        }
      ]
    },
    {
      "cell_type": "markdown",
      "metadata": {
        "id": "gbiNURjFrU_q",
        "colab_type": "text"
      },
      "source": [
        "#supprimer 20% de la dataset (maison ayant un prix trop élevé)"
      ]
    },
    {
      "cell_type": "code",
      "metadata": {
        "id": "VYx9clG-Je_p",
        "colab_type": "code",
        "outputId": "d657f176-47ce-414e-9714-64e9aef58526",
        "colab": {
          "base_uri": "https://localhost:8080/",
          "height": 36
        }
      },
      "source": [
        "len(df)*(0.20)"
      ],
      "execution_count": 114,
      "outputs": [
        {
          "output_type": "execute_result",
          "data": {
            "text/plain": [
              "5072.0"
            ]
          },
          "metadata": {
            "tags": []
          },
          "execution_count": 114
        }
      ]
    },
    {
      "cell_type": "code",
      "metadata": {
        "id": "edkw7_E-JzXm",
        "colab_type": "code",
        "colab": {}
      },
      "source": [
        "df = df.sort_values('price',ascending=False).iloc[5073:]"
      ],
      "execution_count": 0,
      "outputs": []
    },
    {
      "cell_type": "code",
      "metadata": {
        "id": "9NGOdrk5J5Po",
        "colab_type": "code",
        "outputId": "2952e9b3-b7a0-48ed-84af-7fb78a6639ba",
        "colab": {
          "base_uri": "https://localhost:8080/",
          "height": 527
        }
      },
      "source": [
        "plt.figure(figsize=(12,8))\n",
        "sns.distplot(df['price'])"
      ],
      "execution_count": 116,
      "outputs": [
        {
          "output_type": "execute_result",
          "data": {
            "text/plain": [
              "<matplotlib.axes._subplots.AxesSubplot at 0x7f3c68c26e10>"
            ]
          },
          "metadata": {
            "tags": []
          },
          "execution_count": 116
        },
        {
          "output_type": "display_data",
          "data": {
            "image/png": "[encoded data removed]",
            "text/plain": [
              "<Figure size 864x576 with 1 Axes>"
            ]
          },
          "metadata": {
            "tags": [],
            "needs_background": "light"
          }
        }
      ]
    },
    {
      "cell_type": "markdown",
      "metadata": {
        "id": "97HRdGBAsZOt",
        "colab_type": "text"
      },
      "source": [
        "#Feature Engineering pour la Date"
      ]
    },
    {
      "cell_type": "code",
      "metadata": {
        "id": "Pq7agT2EJ-Jd",
        "colab_type": "code",
        "colab": {}
      },
      "source": [
        "df['created_on'] = pd.to_datetime(df['created_on'])\n",
        "df['month'] = df['created_on'].apply(lambda date:date.month)\n",
        "df['year'] = df['created_on'].apply(lambda date:date.year)\n",
        "df = df.drop('created_on',axis=1)"
      ],
      "execution_count": 0,
      "outputs": []
    },
    {
      "cell_type": "code",
      "metadata": {
        "id": "r1x1B7_vsnmS",
        "colab_type": "code",
        "outputId": "552a974e-6aae-40fb-8576-2745be0c7661",
        "colab": {
          "base_uri": "https://localhost:8080/",
          "height": 302
        }
      },
      "source": [
        "df.groupby('year').mean()['price'].plot()"
      ],
      "execution_count": 118,
      "outputs": [
        {
          "output_type": "execute_result",
          "data": {
            "text/plain": [
              "<matplotlib.axes._subplots.AxesSubplot at 0x7f3c68c26dd8>"
            ]
          },
          "metadata": {
            "tags": []
          },
          "execution_count": 118
        },
        {
          "output_type": "display_data",
          "data": {
            "image/png": "[encoded data removed]",
            "text/plain": [
              "<Figure size 432x288 with 1 Axes>"
            ]
          },
          "metadata": {
            "tags": [],
            "needs_background": "light"
          }
        }
      ]
    },
    {
      "cell_type": "markdown",
      "metadata": {
        "id": "CgCEuv6FsxPs",
        "colab_type": "text"
      },
      "source": [
        "#Mise à l'échelle et Train Test Split"
      ]
    },
    {
      "cell_type": "code",
      "metadata": {
        "id": "TRbubEVDKk-F",
        "colab_type": "code",
        "colab": {}
      },
      "source": [
        "X = df.drop('price',axis=1).values\n",
        "y = df['price'].values"
      ],
      "execution_count": 0,
      "outputs": []
    },
    {
      "cell_type": "code",
      "metadata": {
        "id": "8iSYy-MRZuIo",
        "colab_type": "code",
        "colab": {}
      },
      "source": [
        "X_train, X_test, y_train, y_test = train_test_split(X,y,test_size=0.25,random_state=101)"
      ],
      "execution_count": 0,
      "outputs": []
    },
    {
      "cell_type": "code",
      "metadata": {
        "id": "S3t6fUFvZwwH",
        "colab_type": "code",
        "colab": {}
      },
      "source": [
        "scaler = MinMaxScaler()\n",
        "X_train= scaler.fit_transform(X_train)\n",
        "X_test = scaler.transform(X_test)"
      ],
      "execution_count": 0,
      "outputs": []
    },
    {
      "cell_type": "code",
      "metadata": {
        "id": "hxJmAWcqkeQP",
        "colab_type": "code",
        "outputId": "b0e00f2d-8a75-4a53-8955-b13084f2eb9a",
        "colab": {
          "base_uri": "https://localhost:8080/",
          "height": 36
        }
      },
      "source": [
        "df.shape"
      ],
      "execution_count": 122,
      "outputs": [
        {
          "output_type": "execute_result",
          "data": {
            "text/plain": [
              "(20287, 75)"
            ]
          },
          "metadata": {
            "tags": []
          },
          "execution_count": 122
        }
      ]
    },
    {
      "cell_type": "markdown",
      "metadata": {
        "id": "XJay2jPws3PM",
        "colab_type": "text"
      },
      "source": [
        "#Création d'un modèle"
      ]
    },
    {
      "cell_type": "code",
      "metadata": {
        "id": "1rtj97EAZ5d5",
        "colab_type": "code",
        "outputId": "2203284a-5539-4b70-b067-6b3712e5ee37",
        "colab": {
          "base_uri": "https://localhost:8080/",
          "height": 298
        }
      },
      "source": [
        "# Build the neural network\n",
        "from tensorflow.keras import layers, callbacks\n",
        "\n",
        "input = layers.Input(shape=(74,))\n",
        "y = Dense(60, activation='relu')(input)\n",
        "y = Dense(40, activation='relu')(y)\n",
        "y = Dense(30, activation='relu')(y)\n",
        "y = Dense(20, activation='relu')(y)\n",
        "y = Dense(10, activation='relu')(y)\n",
        "y = Dense(1, activation='sigmoid')(y)\n",
        "model = Model(inputs=input, outputs=y)\n",
        "\n",
        "model.compile(loss='mean_squared_error', optimizer='adam')\n",
        "monitor = EarlyStopping(monitor='val_loss', min_delta=1e-3, \n",
        "                        patience=5, verbose=1, mode='auto', restore_best_weights=True)\n",
        "model.fit(X_train,y_train,validation_data=(X_test,y_test),callbacks=[monitor],verbose=2,epochs=1000)"
      ],
      "execution_count": 123,
      "outputs": [
        {
          "output_type": "stream",
          "text": [
            "Epoch 1/1000\n",
            "476/476 - 1s - loss: 23186849792.0000 - val_loss: 23893743616.0000\n",
            "Epoch 2/1000\n",
            "476/476 - 1s - loss: 23186849792.0000 - val_loss: 23893743616.0000\n",
            "Epoch 3/1000\n",
            "476/476 - 1s - loss: 23186841600.0000 - val_loss: 23893743616.0000\n",
            "Epoch 4/1000\n",
            "476/476 - 1s - loss: 23186855936.0000 - val_loss: 23893743616.0000\n",
            "Epoch 5/1000\n",
            "476/476 - 1s - loss: 23186862080.0000 - val_loss: 23893743616.0000\n",
            "Epoch 6/1000\n",
            "Restoring model weights from the end of the best epoch.\n",
            "476/476 - 1s - loss: 23186847744.0000 - val_loss: 23893743616.0000\n",
            "Epoch 00006: early stopping\n"
          ],
          "name": "stdout"
        },
        {
          "output_type": "execute_result",
          "data": {
            "text/plain": [
              "<tensorflow.python.keras.callbacks.History at 0x7f3c68a95978>"
            ]
          },
          "metadata": {
            "tags": []
          },
          "execution_count": 123
        }
      ]
    },
    {
      "cell_type": "code",
      "metadata": {
        "id": "LXU-MrCQaCN_",
        "colab_type": "code",
        "outputId": "731dd060-5937-456d-f17f-90d3f1134369",
        "colab": {
          "base_uri": "https://localhost:8080/",
          "height": 313
        }
      },
      "source": [
        "plt.figure(figsize=(12,8))\n",
        "losses = pd.DataFrame(model.history.history)\n",
        "losses.plot()"
      ],
      "execution_count": 124,
      "outputs": [
        {
          "output_type": "execute_result",
          "data": {
            "text/plain": [
              "<matplotlib.axes._subplots.AxesSubplot at 0x7f3c7a5df898>"
            ]
          },
          "metadata": {
            "tags": []
          },
          "execution_count": 124
        },
        {
          "output_type": "display_data",
          "data": {
            "text/plain": [
              "<Figure size 864x576 with 0 Axes>"
            ]
          },
          "metadata": {
            "tags": []
          }
        },
        {
          "output_type": "display_data",
          "data": {
            "image/png": "[encoded data removed]",
            "text/plain": [
              "<Figure size 432x288 with 1 Axes>"
            ]
          },
          "metadata": {
            "tags": [],
            "needs_background": "light"
          }
        }
      ]
    },
    {
      "cell_type": "markdown",
      "metadata": {
        "id": "Yonzb5vms_Cd",
        "colab_type": "text"
      },
      "source": [
        "#Évaluation sur les données de test"
      ]
    },
    {
      "cell_type": "code",
      "metadata": {
        "id": "xv03UUbsaQbK",
        "colab_type": "code",
        "outputId": "b650fc39-458e-44a5-ed59-c6aba8a6889d",
        "colab": {
          "base_uri": "https://localhost:8080/",
          "height": 92
        }
      },
      "source": [
        "from sklearn.metrics import mean_squared_error,mean_absolute_error,explained_variance_score\n",
        "\n",
        "predictions = model.predict(X_test)\n",
        "\n",
        "MSE = mean_squared_error(y_test,predictions)\n",
        "RMSE = np.sqrt(mean_squared_error(y_test,predictions))\n",
        "MAE = mean_absolute_error(y_test,predictions)\n",
        "EVS = explained_variance_score(y_test,predictions)\n",
        "print(\"MSE : {}\".format(MSE))\n",
        "print(\"RMSE : {}\".format(RMSE))\n",
        "print(\"MAE : {}\".format(MAE))\n",
        "print(\"EVS : {}\".format(EVS))"
      ],
      "execution_count": 125,
      "outputs": [
        {
          "output_type": "stream",
          "text": [
            "MSE : 23893750407.46607\n",
            "RMSE : 154576.0343891189\n",
            "MAE : 140050.88507176025\n",
            "EVS : -5.562128535530064e-11\n"
          ],
          "name": "stdout"
        }
      ]
    },
    {
      "cell_type": "code",
      "metadata": {
        "id": "bbkZ_OdPaUHy",
        "colab_type": "code",
        "colab": {}
      },
      "source": [
        "def chart_regression(pred, y, sort=True):\n",
        "    plt.figure(figsize=(12,8))\n",
        "    t = pd.DataFrame({'pred': pred, 'y': y.flatten()})\n",
        "    if sort:\n",
        "        t.sort_values(by=['y'], inplace=True) \n",
        "    plt.plot(t['pred'].tolist(), label='prediction')\n",
        "    plt.plot(t['y'].tolist(), label='expected')\n",
        "    plt.ylabel('output')\n",
        "    plt.legend()\n",
        "    plt.show()"
      ],
      "execution_count": 0,
      "outputs": []
    },
    {
      "cell_type": "code",
      "metadata": {
        "id": "DtYWrTb7adHC",
        "colab_type": "code",
        "outputId": "6a58d38b-0d18-4a71-d622-8136e7db0208",
        "colab": {
          "base_uri": "https://localhost:8080/",
          "height": 483
        }
      },
      "source": [
        "chart_regression(predictions.flatten(),y_test)"
      ],
      "execution_count": 127,
      "outputs": [
        {
          "output_type": "display_data",
          "data": {
            "image/png": "[encoded data removed]",
            "text/plain": [
              "<Figure size 864x576 with 1 Axes>"
            ]
          },
          "metadata": {
            "tags": [],
            "needs_background": "light"
          }
        }
      ]
    },
    {
      "cell_type": "code",
      "metadata": {
        "id": "0BDI20zIaelO",
        "colab_type": "code",
        "outputId": "dd7d69be-8fa6-49ef-b899-2ef98972902c",
        "colab": {
          "base_uri": "https://localhost:8080/",
          "height": 502
        }
      },
      "source": [
        "plt.figure(figsize=(12,8))\n",
        "# Our predictions\n",
        "plt.scatter(y_test,predictions)\n",
        "\n",
        "# Perfect predictions\n",
        "plt.plot(y_test,y_test,'r')"
      ],
      "execution_count": 128,
      "outputs": [
        {
          "output_type": "execute_result",
          "data": {
            "text/plain": [
              "[<matplotlib.lines.Line2D at 0x7f3c68997470>]"
            ]
          },
          "metadata": {
            "tags": []
          },
          "execution_count": 128
        },
        {
          "output_type": "display_data",
          "data": {
            "image/png": "[encoded data removed]",
            "text/plain": [
              "<Figure size 864x576 with 1 Axes>"
            ]
          },
          "metadata": {
            "tags": [],
            "needs_background": "light"
          }
        }
      ]
    },
    {
      "cell_type": "code",
      "metadata": {
        "id": "WjVAehkJa4tt",
        "colab_type": "code",
        "outputId": "9599b3a0-6abe-496c-d57c-a46b94cf01cd",
        "colab": {
          "base_uri": "https://localhost:8080/",
          "height": 35
        }
      },
      "source": [
        "df['price'].mean()"
      ],
      "execution_count": 0,
      "outputs": [
        {
          "output_type": "execute_result",
          "data": {
            "text/plain": [
              "138125.89564745896"
            ]
          },
          "metadata": {
            "tags": []
          },
          "execution_count": 42
        }
      ]
    },
    {
      "cell_type": "code",
      "metadata": {
        "id": "7hxEZ1U5dKaR",
        "colab_type": "code",
        "outputId": "ffcdcd96-2a29-40c0-b948-b8316c35bbe9",
        "colab": {
          "base_uri": "https://localhost:8080/",
          "height": 35
        }
      },
      "source": [
        "df['price'].median()"
      ],
      "execution_count": 0,
      "outputs": [
        {
          "output_type": "execute_result",
          "data": {
            "text/plain": [
              "125000.0"
            ]
          },
          "metadata": {
            "tags": []
          },
          "execution_count": 43
        }
      ]
    },
    {
      "cell_type": "code",
      "metadata": {
        "id": "AYHqJzf-eC9L",
        "colab_type": "code",
        "outputId": "beed3d45-4fae-4d54-cb41-61f839827b86",
        "colab": {
          "base_uri": "https://localhost:8080/",
          "height": 35
        }
      },
      "source": [
        "df.shape"
      ],
      "execution_count": 0,
      "outputs": [
        {
          "output_type": "execute_result",
          "data": {
            "text/plain": [
              "(20287, 75)"
            ]
          },
          "metadata": {
            "tags": []
          },
          "execution_count": 44
        }
      ]
    },
    {
      "cell_type": "code",
      "metadata": {
        "id": "gmGVV0u5rt5I",
        "colab_type": "code",
        "colab": {}
      },
      "source": [
        ""
      ],
      "execution_count": 0,
      "outputs": []
    }
  ]
}