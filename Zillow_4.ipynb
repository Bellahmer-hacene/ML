{
  "nbformat": 4,
  "nbformat_minor": 0,
  "metadata": {
    "colab": {
      "name": "Zillow 4",
      "provenance": [],
      "authorship_tag": "ABX9TyPcpbi4pEGkyT3L4/CW7S/M",
      "include_colab_link": true
    },
    "kernelspec": {
      "name": "python3",
      "display_name": "Python 3"
    }
  },
  "cells": [
    {
      "cell_type": "markdown",
      "metadata": {
        "id": "view-in-github",
        "colab_type": "text"
      },
      "source": [
        "<a href=\"https://colab.research.google.com/github/Bellahmer-hacene/ML/blob/master/Zillow_4.ipynb\" target=\"_parent\"><img src=\"https://colab.research.google.com/assets/colab-badge.svg\" alt=\"Open In Colab\"/></a>"
      ]
    },
    {
      "cell_type": "code",
      "metadata": {
        "id": "X98h_rEA_Aew",
        "colab_type": "code",
        "colab": {
          "base_uri": "https://localhost:8080/",
          "height": 131
        },
        "outputId": "52764b2d-f202-440c-bab3-c2582502e115"
      },
      "source": [
        "from google.colab import drive\n",
        "drive.mount('/content/gdrive')"
      ],
      "execution_count": 1,
      "outputs": [
        {
          "output_type": "stream",
          "text": [
            "Go to this URL in a browser: https://accounts.google.com/o/oauth2/auth?client_id=947318989803-6bn6qk8qdgf4n4g3pfee6491hc0brc4i.apps.googleusercontent.com&redirect_uri=urn%3aietf%3awg%3aoauth%3a2.0%3aoob&response_type=code&scope=email%20https%3a%2f%2fwww.googleapis.com%2fauth%2fdocs.test%20https%3a%2f%2fwww.googleapis.com%2fauth%2fdrive%20https%3a%2f%2fwww.googleapis.com%2fauth%2fdrive.photos.readonly%20https%3a%2f%2fwww.googleapis.com%2fauth%2fpeopleapi.readonly\n",
            "\n",
            "Enter your authorization code:\n",
            "··········\n",
            "Mounted at /content/gdrive\n"
          ],
          "name": "stdout"
        }
      ]
    },
    {
      "cell_type": "code",
      "metadata": {
        "id": "o87F_sV2_C4s",
        "colab_type": "code",
        "colab": {
          "base_uri": "https://localhost:8080/",
          "height": 74
        },
        "outputId": "df75893a-8f9e-4194-8a65-c0cddc5865e2"
      },
      "source": [
        "import tensorflow as tf\n",
        "import pandas as pd\n",
        "import numpy as np\n",
        "import seaborn as sns\n",
        "import matplotlib.pyplot as plt\n",
        "from sklearn.preprocessing import MinMaxScaler\n",
        "from sklearn.model_selection import train_test_split\n",
        "%load_ext tensorboard"
      ],
      "execution_count": 2,
      "outputs": [
        {
          "output_type": "stream",
          "text": [
            "/usr/local/lib/python3.6/dist-packages/statsmodels/tools/_testing.py:19: FutureWarning: pandas.util.testing is deprecated. Use the functions in the public API at pandas.testing instead.\n",
            "  import pandas.util.testing as tm\n"
          ],
          "name": "stderr"
        }
      ]
    },
    {
      "cell_type": "code",
      "metadata": {
        "id": "0yEZBcti_MXV",
        "colab_type": "code",
        "colab": {}
      },
      "source": [
        "df = pd.read_csv('/content/gdrive/My Drive/dataset/df.csv')"
      ],
      "execution_count": 3,
      "outputs": []
    },
    {
      "cell_type": "code",
      "metadata": {
        "id": "WcLx7fCbA8GT",
        "colab_type": "code",
        "colab": {}
      },
      "source": [
        "df.drop('Unnamed: 0', axis=1, inplace=True)"
      ],
      "execution_count": 4,
      "outputs": []
    },
    {
      "cell_type": "code",
      "metadata": {
        "id": "0pItzRj4_PYp",
        "colab_type": "code",
        "colab": {
          "base_uri": "https://localhost:8080/",
          "height": 527
        },
        "outputId": "34a5fcab-8359-45a0-db73-3de2aed1ec15"
      },
      "source": [
        "plt.figure(figsize=(12,8))\n",
        "sns.distplot(df['taxvaluedollarcnt'])"
      ],
      "execution_count": 5,
      "outputs": [
        {
          "output_type": "execute_result",
          "data": {
            "text/plain": [
              "<matplotlib.axes._subplots.AxesSubplot at 0x7f64c2574e10>"
            ]
          },
          "metadata": {
            "tags": []
          },
          "execution_count": 5
        },
        {
          "output_type": "display_data",
          "data": {
            "image/png": "[encoded data removed]",
            "text/plain": [
              "<Figure size 864x576 with 1 Axes>"
            ]
          },
          "metadata": {
            "tags": [],
            "needs_background": "light"
          }
        }
      ]
    },
    {
      "cell_type": "code",
      "metadata": {
        "id": "NKQKdVha_Uyu",
        "colab_type": "code",
        "colab": {
          "base_uri": "https://localhost:8080/",
          "height": 36
        },
        "outputId": "c7380a3d-6289-492b-c593-e136923a6d09"
      },
      "source": [
        "len(df)*(0.05)"
      ],
      "execution_count": 6,
      "outputs": [
        {
          "output_type": "execute_result",
          "data": {
            "text/plain": [
              "8289.45"
            ]
          },
          "metadata": {
            "tags": []
          },
          "execution_count": 6
        }
      ]
    },
    {
      "cell_type": "code",
      "metadata": {
        "id": "LXhkyHBh_W5O",
        "colab_type": "code",
        "colab": {}
      },
      "source": [
        "df = df.sort_values('taxvaluedollarcnt',ascending=False).iloc[8290:]"
      ],
      "execution_count": 7,
      "outputs": []
    },
    {
      "cell_type": "code",
      "metadata": {
        "id": "IZRiPaZ4_Ydt",
        "colab_type": "code",
        "colab": {
          "base_uri": "https://localhost:8080/",
          "height": 527
        },
        "outputId": "4bcb2a33-2588-45ad-eb75-934d296f1e36"
      },
      "source": [
        "plt.figure(figsize=(12,8))\n",
        "sns.distplot(df['taxvaluedollarcnt'])"
      ],
      "execution_count": 8,
      "outputs": [
        {
          "output_type": "execute_result",
          "data": {
            "text/plain": [
              "<matplotlib.axes._subplots.AxesSubplot at 0x7f64c1feef60>"
            ]
          },
          "metadata": {
            "tags": []
          },
          "execution_count": 8
        },
        {
          "output_type": "display_data",
          "data": {
            "image/png": "[encoded data removed]",
            "text/plain": [
              "<Figure size 864x576 with 1 Axes>"
            ]
          },
          "metadata": {
            "tags": [],
            "needs_background": "light"
          }
        }
      ]
    },
    {
      "cell_type": "code",
      "metadata": {
        "id": "gU4t1Fc-n6hC",
        "colab_type": "code",
        "colab": {}
      },
      "source": [
        "df.drop('landtaxvaluedollarcnt', axis=1, inplace=True)\n",
        "df.drop('structuretaxvaluedollarcnt', axis=1, inplace=True)"
      ],
      "execution_count": 9,
      "outputs": []
    },
    {
      "cell_type": "code",
      "metadata": {
        "id": "PuJbTCg9_bHI",
        "colab_type": "code",
        "colab": {}
      },
      "source": [
        "X = df.drop('taxvaluedollarcnt',axis=1).values\n",
        "y = df['taxvaluedollarcnt'].values"
      ],
      "execution_count": 10,
      "outputs": []
    },
    {
      "cell_type": "code",
      "metadata": {
        "id": "EZwzqmNd_jUx",
        "colab_type": "code",
        "colab": {}
      },
      "source": [
        "X_train, X_test, y_train, y_test = train_test_split(X,y,test_size=0.25,random_state=101)"
      ],
      "execution_count": 11,
      "outputs": []
    },
    {
      "cell_type": "code",
      "metadata": {
        "id": "Y4URZOHX_lIo",
        "colab_type": "code",
        "colab": {}
      },
      "source": [
        "scaler = MinMaxScaler()\n",
        "X_train= scaler.fit_transform(X_train)\n",
        "X_test = scaler.transform(X_test)"
      ],
      "execution_count": 12,
      "outputs": []
    },
    {
      "cell_type": "code",
      "metadata": {
        "id": "RUNLD4GR_v6H",
        "colab_type": "code",
        "colab": {
          "base_uri": "https://localhost:8080/",
          "height": 36
        },
        "outputId": "d4d77d25-43d0-4580-88b5-2686a40ee6ad"
      },
      "source": [
        "df.shape"
      ],
      "execution_count": 13,
      "outputs": [
        {
          "output_type": "execute_result",
          "data": {
            "text/plain": [
              "(157499, 508)"
            ]
          },
          "metadata": {
            "tags": []
          },
          "execution_count": 13
        }
      ]
    },
    {
      "cell_type": "code",
      "metadata": {
        "id": "WVNf6qFM_xv7",
        "colab_type": "code",
        "colab": {
          "base_uri": "https://localhost:8080/",
          "height": 1000
        },
        "outputId": "8be12336-977a-4ef8-bc87-bda70e559ddb"
      },
      "source": [
        "# Build the neural network\n",
        "from tensorflow.keras import layers, callbacks, Model\n",
        "from tensorflow.keras.layers import Dense, Activation,Dropout\n",
        "from tensorflow.keras.callbacks import EarlyStopping\n",
        "input = layers.Input(shape=(507,))\n",
        "y = Dense(170, activation='relu')(input)\n",
        "y = Dense(60, activation='relu')(y)\n",
        "y = Dense(20, activation='relu')(y)\n",
        "y = Dense(1)(y)\n",
        "model = Model(inputs=input, outputs=y)\n",
        "\n",
        "model.compile(loss='mean_squared_error', optimizer='adam')\n",
        "monitor = EarlyStopping(monitor='val_loss', min_delta=1e-3, \n",
        "                        patience=5, verbose=1, mode='auto', restore_best_weights=True)\n",
        "model.fit(X_train,y_train,validation_data=(X_test,y_test),callbacks=[monitor],verbose=2,epochs=1000)"
      ],
      "execution_count": 15,
      "outputs": [
        {
          "output_type": "stream",
          "text": [
            "Epoch 1/1000\n",
            "3692/3692 - 9s - loss: 42921918464.0000 - val_loss: 31336239104.0000\n",
            "Epoch 2/1000\n",
            "3692/3692 - 8s - loss: 29657419776.0000 - val_loss: 28416104448.0000\n",
            "Epoch 3/1000\n",
            "3692/3692 - 8s - loss: 25751808000.0000 - val_loss: 22724378624.0000\n",
            "Epoch 4/1000\n",
            "3692/3692 - 9s - loss: 16651620352.0000 - val_loss: 11594272768.0000\n",
            "Epoch 5/1000\n",
            "3692/3692 - 9s - loss: 10726071296.0000 - val_loss: 9862335488.0000\n",
            "Epoch 6/1000\n",
            "3692/3692 - 9s - loss: 10162790400.0000 - val_loss: 9941395456.0000\n",
            "Epoch 7/1000\n",
            "3692/3692 - 9s - loss: 10095135744.0000 - val_loss: 9530634240.0000\n",
            "Epoch 8/1000\n",
            "3692/3692 - 8s - loss: 10077076480.0000 - val_loss: 9545225216.0000\n",
            "Epoch 9/1000\n",
            "3692/3692 - 8s - loss: 10024775680.0000 - val_loss: 9516761088.0000\n",
            "Epoch 10/1000\n",
            "3692/3692 - 9s - loss: 10028710912.0000 - val_loss: 9547094016.0000\n",
            "Epoch 11/1000\n",
            "3692/3692 - 9s - loss: 10018176000.0000 - val_loss: 9532235776.0000\n",
            "Epoch 12/1000\n",
            "3692/3692 - 9s - loss: 9995464704.0000 - val_loss: 9491980288.0000\n",
            "Epoch 13/1000\n",
            "3692/3692 - 9s - loss: 10028362752.0000 - val_loss: 9587681280.0000\n",
            "Epoch 14/1000\n",
            "3692/3692 - 9s - loss: 10036084736.0000 - val_loss: 9490792448.0000\n",
            "Epoch 15/1000\n",
            "3692/3692 - 9s - loss: 10001570816.0000 - val_loss: 9482306560.0000\n",
            "Epoch 16/1000\n",
            "3692/3692 - 8s - loss: 10010947584.0000 - val_loss: 9431823360.0000\n",
            "Epoch 17/1000\n",
            "3692/3692 - 9s - loss: 9857798144.0000 - val_loss: 9371714560.0000\n",
            "Epoch 18/1000\n",
            "3692/3692 - 9s - loss: 9447792640.0000 - val_loss: 8693750784.0000\n",
            "Epoch 19/1000\n",
            "3692/3692 - 8s - loss: 8589282816.0000 - val_loss: 7859865088.0000\n",
            "Epoch 20/1000\n",
            "3692/3692 - 9s - loss: 7636084736.0000 - val_loss: 7092441600.0000\n",
            "Epoch 21/1000\n",
            "3692/3692 - 9s - loss: 6862018048.0000 - val_loss: 6565373440.0000\n",
            "Epoch 22/1000\n",
            "3692/3692 - 8s - loss: 6317854208.0000 - val_loss: 6188823552.0000\n",
            "Epoch 23/1000\n",
            "3692/3692 - 9s - loss: 5916829184.0000 - val_loss: 5895612416.0000\n",
            "Epoch 24/1000\n",
            "3692/3692 - 9s - loss: 5584518144.0000 - val_loss: 5623856128.0000\n",
            "Epoch 25/1000\n",
            "3692/3692 - 9s - loss: 5327788032.0000 - val_loss: 5425784320.0000\n",
            "Epoch 26/1000\n",
            "3692/3692 - 9s - loss: 5130635776.0000 - val_loss: 5326859776.0000\n",
            "Epoch 27/1000\n",
            "3692/3692 - 8s - loss: 4970990592.0000 - val_loss: 5160083456.0000\n",
            "Epoch 28/1000\n",
            "3692/3692 - 9s - loss: 4835511808.0000 - val_loss: 5314079744.0000\n",
            "Epoch 29/1000\n",
            "3692/3692 - 9s - loss: 4714250240.0000 - val_loss: 5024814080.0000\n",
            "Epoch 30/1000\n",
            "3692/3692 - 9s - loss: 4601379840.0000 - val_loss: 4908978688.0000\n",
            "Epoch 31/1000\n",
            "3692/3692 - 9s - loss: 4496246784.0000 - val_loss: 4802231296.0000\n",
            "Epoch 32/1000\n",
            "3692/3692 - 9s - loss: 4412807168.0000 - val_loss: 4686761984.0000\n",
            "Epoch 33/1000\n",
            "3692/3692 - 9s - loss: 4352280064.0000 - val_loss: 4824370176.0000\n",
            "Epoch 34/1000\n",
            "3692/3692 - 9s - loss: 4306225152.0000 - val_loss: 4578324992.0000\n",
            "Epoch 35/1000\n",
            "3692/3692 - 9s - loss: 4267194112.0000 - val_loss: 4608115200.0000\n",
            "Epoch 36/1000\n",
            "3692/3692 - 8s - loss: 4240006144.0000 - val_loss: 4519416320.0000\n",
            "Epoch 37/1000\n",
            "3692/3692 - 8s - loss: 4217226240.0000 - val_loss: 4495443968.0000\n",
            "Epoch 38/1000\n",
            "3692/3692 - 9s - loss: 4196057600.0000 - val_loss: 4463985152.0000\n",
            "Epoch 39/1000\n",
            "3692/3692 - 10s - loss: 4182850304.0000 - val_loss: 4462065664.0000\n",
            "Epoch 40/1000\n",
            "3692/3692 - 10s - loss: 4169332480.0000 - val_loss: 4471428096.0000\n",
            "Epoch 41/1000\n",
            "3692/3692 - 9s - loss: 4156089856.0000 - val_loss: 4500924416.0000\n",
            "Epoch 42/1000\n",
            "3692/3692 - 9s - loss: 4145808128.0000 - val_loss: 4457792512.0000\n",
            "Epoch 43/1000\n",
            "3692/3692 - 8s - loss: 4132723200.0000 - val_loss: 4482255872.0000\n",
            "Epoch 44/1000\n",
            "3692/3692 - 9s - loss: 4130579968.0000 - val_loss: 4536415744.0000\n",
            "Epoch 45/1000\n",
            "3692/3692 - 9s - loss: 4123043328.0000 - val_loss: 4440773120.0000\n",
            "Epoch 46/1000\n",
            "3692/3692 - 9s - loss: 4118514176.0000 - val_loss: 4522404864.0000\n",
            "Epoch 47/1000\n",
            "3692/3692 - 9s - loss: 4109894656.0000 - val_loss: 4481917440.0000\n",
            "Epoch 48/1000\n",
            "3692/3692 - 9s - loss: 4108813056.0000 - val_loss: 4442135040.0000\n",
            "Epoch 49/1000\n",
            "3692/3692 - 9s - loss: 4103011584.0000 - val_loss: 4442063360.0000\n",
            "Epoch 50/1000\n",
            "Restoring model weights from the end of the best epoch.\n",
            "3692/3692 - 9s - loss: 4092046336.0000 - val_loss: 4442077696.0000\n",
            "Epoch 00050: early stopping\n"
          ],
          "name": "stdout"
        },
        {
          "output_type": "execute_result",
          "data": {
            "text/plain": [
              "<tensorflow.python.keras.callbacks.History at 0x7f64bb1b40f0>"
            ]
          },
          "metadata": {
            "tags": []
          },
          "execution_count": 15
        }
      ]
    },
    {
      "cell_type": "code",
      "metadata": {
        "id": "22L6BDkY_zhl",
        "colab_type": "code",
        "colab": {
          "base_uri": "https://localhost:8080/",
          "height": 313
        },
        "outputId": "18fc044d-eea1-48d6-8d99-8cc00bb9c320"
      },
      "source": [
        "plt.figure(figsize=(12,8))\n",
        "losses = pd.DataFrame(model.history.history)\n",
        "losses.plot()"
      ],
      "execution_count": 16,
      "outputs": [
        {
          "output_type": "execute_result",
          "data": {
            "text/plain": [
              "<matplotlib.axes._subplots.AxesSubplot at 0x7f64b7ac8e80>"
            ]
          },
          "metadata": {
            "tags": []
          },
          "execution_count": 16
        },
        {
          "output_type": "display_data",
          "data": {
            "text/plain": [
              "<Figure size 864x576 with 0 Axes>"
            ]
          },
          "metadata": {
            "tags": []
          }
        },
        {
          "output_type": "display_data",
          "data": {
            "image/png": "[encoded data removed]",
            "text/plain": [
              "<Figure size 432x288 with 1 Axes>"
            ]
          },
          "metadata": {
            "tags": [],
            "needs_background": "light"
          }
        }
      ]
    },
    {
      "cell_type": "code",
      "metadata": {
        "id": "ct0KOYdzCfRT",
        "colab_type": "code",
        "colab": {
          "base_uri": "https://localhost:8080/",
          "height": 92
        },
        "outputId": "f31354ca-4b42-4d80-ddac-48ffaabec526"
      },
      "source": [
        "from sklearn.metrics import mean_squared_error,mean_absolute_error,explained_variance_score\n",
        "\n",
        "predictions = model.predict(X_test)\n",
        "\n",
        "MSE = mean_squared_error(y_test,predictions)\n",
        "RMSE = np.sqrt(mean_squared_error(y_test,predictions))\n",
        "MAE = mean_absolute_error(y_test,predictions)\n",
        "EVS = explained_variance_score(y_test,predictions)\n",
        "print(\"MSE : {}\".format(MSE))\n",
        "print(\"RMSE : {}\".format(RMSE))\n",
        "print(\"MAE : {}\".format(MAE))\n",
        "print(\"EVS : {}\".format(EVS))"
      ],
      "execution_count": 17,
      "outputs": [
        {
          "output_type": "stream",
          "text": [
            "MSE : 4440772597.419518\n",
            "RMSE : 66639.12212371588\n",
            "MAE : 27829.201883489117\n",
            "EVS : 0.8869249089926191\n"
          ],
          "name": "stdout"
        }
      ]
    },
    {
      "cell_type": "code",
      "metadata": {
        "id": "O8FIdVgYChus",
        "colab_type": "code",
        "colab": {}
      },
      "source": [
        "def chart_regression(pred, y, sort=True):\n",
        "    plt.figure(figsize=(12,8))\n",
        "    t = pd.DataFrame({'pred': pred, 'y': y.flatten()})\n",
        "    if sort:\n",
        "        t.sort_values(by=['y'], inplace=True) \n",
        "    plt.plot(t['pred'].tolist(), label='prediction')\n",
        "    plt.plot(t['y'].tolist(), label='expected')\n",
        "    plt.ylabel('output')\n",
        "    plt.legend()\n",
        "    plt.show()"
      ],
      "execution_count": 18,
      "outputs": []
    },
    {
      "cell_type": "code",
      "metadata": {
        "id": "gj1sBguMC_OE",
        "colab_type": "code",
        "colab": {
          "base_uri": "https://localhost:8080/",
          "height": 494
        },
        "outputId": "b176ee64-daef-4f2c-f16c-d8077e11e48e"
      },
      "source": [
        "chart_regression(predictions.flatten(),y_test)"
      ],
      "execution_count": 19,
      "outputs": [
        {
          "output_type": "display_data",
          "data": {
            "image/png": "[encoded data removed]",
            "text/plain": [
              "<Figure size 864x576 with 1 Axes>"
            ]
          },
          "metadata": {
            "tags": [],
            "needs_background": "light"
          }
        }
      ]
    },
    {
      "cell_type": "code",
      "metadata": {
        "id": "HYZoOumsDBPu",
        "colab_type": "code",
        "colab": {
          "base_uri": "https://localhost:8080/",
          "height": 513
        },
        "outputId": "c0d7f2a6-5eae-4ecf-ea09-3dbfe9d045eb"
      },
      "source": [
        "plt.figure(figsize=(12,8))\n",
        "# Our predictions\n",
        "plt.scatter(y_test,predictions)\n",
        "\n",
        "# Perfect predictions\n",
        "plt.plot(y_test,y_test,'r')"
      ],
      "execution_count": 20,
      "outputs": [
        {
          "output_type": "execute_result",
          "data": {
            "text/plain": [
              "[<matplotlib.lines.Line2D at 0x7f64b6a4b748>]"
            ]
          },
          "metadata": {
            "tags": []
          },
          "execution_count": 20
        },
        {
          "output_type": "display_data",
          "data": {
            "image/png": "[encoded data removed]",
            "text/plain": [
              "<Figure size 864x576 with 1 Axes>"
            ]
          },
          "metadata": {
            "tags": [],
            "needs_background": "light"
          }
        }
      ]
    },
    {
      "cell_type": "code",
      "metadata": {
        "id": "ZVwlfYbsA3pu",
        "colab_type": "code",
        "colab": {
          "base_uri": "https://localhost:8080/",
          "height": 255
        },
        "outputId": "8569e710-aed8-4564-fe4a-dee01bfb5549"
      },
      "source": [
        "df.head()"
      ],
      "execution_count": 21,
      "outputs": [
        {
          "output_type": "execute_result",
          "data": {
            "text/html": [
              "<div>\n",
              "<style scoped>\n",
              "    .dataframe tbody tr th:only-of-type {\n",
              "        vertical-align: middle;\n",
              "    }\n",
              "\n",
              "    .dataframe tbody tr th {\n",
              "        vertical-align: top;\n",
              "    }\n",
              "\n",
              "    .dataframe thead th {\n",
              "        text-align: right;\n",
              "    }\n",
              "</style>\n",
              "<table border=\"1\" class=\"dataframe\">\n",
              "  <thead>\n",
              "    <tr style=\"text-align: right;\">\n",
              "      <th></th>\n",
              "      <th>airconditioningtypeid</th>\n",
              "      <th>bathroomcnt</th>\n",
              "      <th>bedroomcnt</th>\n",
              "      <th>calculatedfinishedsquarefeet</th>\n",
              "      <th>finishedsquarefeet15</th>\n",
              "      <th>fullbathcnt</th>\n",
              "      <th>hashottuborspa</th>\n",
              "      <th>lotsizesquarefeet</th>\n",
              "      <th>poolcnt</th>\n",
              "      <th>pooltypeid10</th>\n",
              "      <th>pooltypeid7</th>\n",
              "      <th>rawcensustractandblock</th>\n",
              "      <th>roomcnt</th>\n",
              "      <th>unitcnt</th>\n",
              "      <th>yearbuilt</th>\n",
              "      <th>taxvaluedollarcnt</th>\n",
              "      <th>assessmentyear</th>\n",
              "      <th>taxamount</th>\n",
              "      <th>propertycountylandusecode_014D</th>\n",
              "      <th>propertycountylandusecode_0200</th>\n",
              "      <th>propertycountylandusecode_0201</th>\n",
              "      <th>propertycountylandusecode_0202</th>\n",
              "      <th>propertycountylandusecode_0203</th>\n",
              "      <th>propertycountylandusecode_0204</th>\n",
              "      <th>propertycountylandusecode_0208</th>\n",
              "      <th>propertycountylandusecode_0209</th>\n",
              "      <th>propertycountylandusecode_020A</th>\n",
              "      <th>propertycountylandusecode_020C</th>\n",
              "      <th>propertycountylandusecode_020E</th>\n",
              "      <th>propertycountylandusecode_020G</th>\n",
              "      <th>propertycountylandusecode_020M</th>\n",
              "      <th>propertycountylandusecode_0210</th>\n",
              "      <th>propertycountylandusecode_0220</th>\n",
              "      <th>propertycountylandusecode_0230</th>\n",
              "      <th>propertycountylandusecode_0231</th>\n",
              "      <th>propertycountylandusecode_02G0</th>\n",
              "      <th>propertycountylandusecode_0300</th>\n",
              "      <th>propertycountylandusecode_0301</th>\n",
              "      <th>propertycountylandusecode_0303</th>\n",
              "      <th>propertycountylandusecode_0304</th>\n",
              "      <th>...</th>\n",
              "      <th>regionidzip_96478.0</th>\n",
              "      <th>regionidzip_96479.0</th>\n",
              "      <th>regionidzip_96480.0</th>\n",
              "      <th>regionidzip_96485.0</th>\n",
              "      <th>regionidzip_96486.0</th>\n",
              "      <th>regionidzip_96488.0</th>\n",
              "      <th>regionidzip_96489.0</th>\n",
              "      <th>regionidzip_96490.0</th>\n",
              "      <th>regionidzip_96492.0</th>\n",
              "      <th>regionidzip_96494.0</th>\n",
              "      <th>regionidzip_96496.0</th>\n",
              "      <th>regionidzip_96497.0</th>\n",
              "      <th>regionidzip_96505.0</th>\n",
              "      <th>regionidzip_96506.0</th>\n",
              "      <th>regionidzip_96507.0</th>\n",
              "      <th>regionidzip_96508.0</th>\n",
              "      <th>regionidzip_96510.0</th>\n",
              "      <th>regionidzip_96513.0</th>\n",
              "      <th>regionidzip_96514.0</th>\n",
              "      <th>regionidzip_96515.0</th>\n",
              "      <th>regionidzip_96517.0</th>\n",
              "      <th>regionidzip_96522.0</th>\n",
              "      <th>regionidzip_96523.0</th>\n",
              "      <th>regionidzip_96524.0</th>\n",
              "      <th>regionidzip_96525.0</th>\n",
              "      <th>regionidzip_96531.0</th>\n",
              "      <th>regionidzip_96533.0</th>\n",
              "      <th>regionidzip_97298.0</th>\n",
              "      <th>regionidzip_97316.0</th>\n",
              "      <th>regionidzip_97317.0</th>\n",
              "      <th>regionidzip_97318.0</th>\n",
              "      <th>regionidzip_97319.0</th>\n",
              "      <th>regionidzip_97323.0</th>\n",
              "      <th>regionidzip_97324.0</th>\n",
              "      <th>regionidzip_97328.0</th>\n",
              "      <th>regionidzip_97329.0</th>\n",
              "      <th>regionidzip_97330.0</th>\n",
              "      <th>regionidzip_97331.0</th>\n",
              "      <th>regionidzip_97344.0</th>\n",
              "      <th>regionidzip_399675.0</th>\n",
              "    </tr>\n",
              "  </thead>\n",
              "  <tbody>\n",
              "    <tr>\n",
              "      <th>112063</th>\n",
              "      <td>0.0</td>\n",
              "      <td>2.0</td>\n",
              "      <td>4.0</td>\n",
              "      <td>2130.0</td>\n",
              "      <td>2130.0</td>\n",
              "      <td>2.0</td>\n",
              "      <td>0</td>\n",
              "      <td>6754.0</td>\n",
              "      <td>0.0</td>\n",
              "      <td>0.0</td>\n",
              "      <td>0.0</td>\n",
              "      <td>6.037195e+07</td>\n",
              "      <td>0.0</td>\n",
              "      <td>2.0</td>\n",
              "      <td>1941.0</td>\n",
              "      <td>942640.0</td>\n",
              "      <td>2015.0</td>\n",
              "      <td>7944.05</td>\n",
              "      <td>0</td>\n",
              "      <td>1</td>\n",
              "      <td>0</td>\n",
              "      <td>0</td>\n",
              "      <td>0</td>\n",
              "      <td>0</td>\n",
              "      <td>0</td>\n",
              "      <td>0</td>\n",
              "      <td>0</td>\n",
              "      <td>0</td>\n",
              "      <td>0</td>\n",
              "      <td>0</td>\n",
              "      <td>0</td>\n",
              "      <td>0</td>\n",
              "      <td>0</td>\n",
              "      <td>0</td>\n",
              "      <td>0</td>\n",
              "      <td>0</td>\n",
              "      <td>0</td>\n",
              "      <td>0</td>\n",
              "      <td>0</td>\n",
              "      <td>0</td>\n",
              "      <td>...</td>\n",
              "      <td>0</td>\n",
              "      <td>0</td>\n",
              "      <td>0</td>\n",
              "      <td>0</td>\n",
              "      <td>0</td>\n",
              "      <td>0</td>\n",
              "      <td>0</td>\n",
              "      <td>0</td>\n",
              "      <td>0</td>\n",
              "      <td>0</td>\n",
              "      <td>0</td>\n",
              "      <td>0</td>\n",
              "      <td>0</td>\n",
              "      <td>0</td>\n",
              "      <td>0</td>\n",
              "      <td>0</td>\n",
              "      <td>0</td>\n",
              "      <td>0</td>\n",
              "      <td>0</td>\n",
              "      <td>0</td>\n",
              "      <td>0</td>\n",
              "      <td>0</td>\n",
              "      <td>0</td>\n",
              "      <td>0</td>\n",
              "      <td>0</td>\n",
              "      <td>0</td>\n",
              "      <td>0</td>\n",
              "      <td>0</td>\n",
              "      <td>0</td>\n",
              "      <td>0</td>\n",
              "      <td>0</td>\n",
              "      <td>0</td>\n",
              "      <td>0</td>\n",
              "      <td>0</td>\n",
              "      <td>0</td>\n",
              "      <td>0</td>\n",
              "      <td>0</td>\n",
              "      <td>0</td>\n",
              "      <td>0</td>\n",
              "      <td>0</td>\n",
              "    </tr>\n",
              "    <tr>\n",
              "      <th>147003</th>\n",
              "      <td>0.0</td>\n",
              "      <td>4.0</td>\n",
              "      <td>7.0</td>\n",
              "      <td>4282.0</td>\n",
              "      <td>4282.0</td>\n",
              "      <td>4.0</td>\n",
              "      <td>0</td>\n",
              "      <td>7036.0</td>\n",
              "      <td>0.0</td>\n",
              "      <td>0.0</td>\n",
              "      <td>0.0</td>\n",
              "      <td>6.037191e+07</td>\n",
              "      <td>0.0</td>\n",
              "      <td>4.0</td>\n",
              "      <td>1920.0</td>\n",
              "      <td>942640.0</td>\n",
              "      <td>2015.0</td>\n",
              "      <td>11819.44</td>\n",
              "      <td>0</td>\n",
              "      <td>0</td>\n",
              "      <td>0</td>\n",
              "      <td>0</td>\n",
              "      <td>0</td>\n",
              "      <td>0</td>\n",
              "      <td>0</td>\n",
              "      <td>0</td>\n",
              "      <td>0</td>\n",
              "      <td>0</td>\n",
              "      <td>0</td>\n",
              "      <td>0</td>\n",
              "      <td>0</td>\n",
              "      <td>0</td>\n",
              "      <td>0</td>\n",
              "      <td>0</td>\n",
              "      <td>0</td>\n",
              "      <td>0</td>\n",
              "      <td>0</td>\n",
              "      <td>0</td>\n",
              "      <td>0</td>\n",
              "      <td>0</td>\n",
              "      <td>...</td>\n",
              "      <td>0</td>\n",
              "      <td>0</td>\n",
              "      <td>0</td>\n",
              "      <td>0</td>\n",
              "      <td>0</td>\n",
              "      <td>0</td>\n",
              "      <td>0</td>\n",
              "      <td>0</td>\n",
              "      <td>0</td>\n",
              "      <td>0</td>\n",
              "      <td>0</td>\n",
              "      <td>0</td>\n",
              "      <td>0</td>\n",
              "      <td>0</td>\n",
              "      <td>0</td>\n",
              "      <td>0</td>\n",
              "      <td>0</td>\n",
              "      <td>0</td>\n",
              "      <td>0</td>\n",
              "      <td>0</td>\n",
              "      <td>0</td>\n",
              "      <td>0</td>\n",
              "      <td>0</td>\n",
              "      <td>0</td>\n",
              "      <td>0</td>\n",
              "      <td>0</td>\n",
              "      <td>0</td>\n",
              "      <td>0</td>\n",
              "      <td>0</td>\n",
              "      <td>0</td>\n",
              "      <td>0</td>\n",
              "      <td>0</td>\n",
              "      <td>0</td>\n",
              "      <td>0</td>\n",
              "      <td>0</td>\n",
              "      <td>0</td>\n",
              "      <td>0</td>\n",
              "      <td>0</td>\n",
              "      <td>0</td>\n",
              "      <td>0</td>\n",
              "    </tr>\n",
              "    <tr>\n",
              "      <th>78960</th>\n",
              "      <td>0.0</td>\n",
              "      <td>2.0</td>\n",
              "      <td>4.0</td>\n",
              "      <td>2952.0</td>\n",
              "      <td>2952.0</td>\n",
              "      <td>2.0</td>\n",
              "      <td>0</td>\n",
              "      <td>4477.0</td>\n",
              "      <td>0.0</td>\n",
              "      <td>0.0</td>\n",
              "      <td>0.0</td>\n",
              "      <td>6.037192e+07</td>\n",
              "      <td>0.0</td>\n",
              "      <td>2.0</td>\n",
              "      <td>1923.0</td>\n",
              "      <td>942640.0</td>\n",
              "      <td>2015.0</td>\n",
              "      <td>11659.47</td>\n",
              "      <td>0</td>\n",
              "      <td>1</td>\n",
              "      <td>0</td>\n",
              "      <td>0</td>\n",
              "      <td>0</td>\n",
              "      <td>0</td>\n",
              "      <td>0</td>\n",
              "      <td>0</td>\n",
              "      <td>0</td>\n",
              "      <td>0</td>\n",
              "      <td>0</td>\n",
              "      <td>0</td>\n",
              "      <td>0</td>\n",
              "      <td>0</td>\n",
              "      <td>0</td>\n",
              "      <td>0</td>\n",
              "      <td>0</td>\n",
              "      <td>0</td>\n",
              "      <td>0</td>\n",
              "      <td>0</td>\n",
              "      <td>0</td>\n",
              "      <td>0</td>\n",
              "      <td>...</td>\n",
              "      <td>0</td>\n",
              "      <td>0</td>\n",
              "      <td>0</td>\n",
              "      <td>0</td>\n",
              "      <td>0</td>\n",
              "      <td>0</td>\n",
              "      <td>0</td>\n",
              "      <td>0</td>\n",
              "      <td>0</td>\n",
              "      <td>0</td>\n",
              "      <td>0</td>\n",
              "      <td>0</td>\n",
              "      <td>0</td>\n",
              "      <td>0</td>\n",
              "      <td>0</td>\n",
              "      <td>0</td>\n",
              "      <td>0</td>\n",
              "      <td>0</td>\n",
              "      <td>0</td>\n",
              "      <td>0</td>\n",
              "      <td>0</td>\n",
              "      <td>0</td>\n",
              "      <td>0</td>\n",
              "      <td>0</td>\n",
              "      <td>0</td>\n",
              "      <td>0</td>\n",
              "      <td>0</td>\n",
              "      <td>0</td>\n",
              "      <td>0</td>\n",
              "      <td>0</td>\n",
              "      <td>0</td>\n",
              "      <td>0</td>\n",
              "      <td>0</td>\n",
              "      <td>0</td>\n",
              "      <td>0</td>\n",
              "      <td>0</td>\n",
              "      <td>0</td>\n",
              "      <td>0</td>\n",
              "      <td>0</td>\n",
              "      <td>0</td>\n",
              "    </tr>\n",
              "    <tr>\n",
              "      <th>12608</th>\n",
              "      <td>1.0</td>\n",
              "      <td>2.0</td>\n",
              "      <td>2.0</td>\n",
              "      <td>2540.0</td>\n",
              "      <td>2540.0</td>\n",
              "      <td>2.0</td>\n",
              "      <td>0</td>\n",
              "      <td>7666.0</td>\n",
              "      <td>0.0</td>\n",
              "      <td>0.0</td>\n",
              "      <td>0.0</td>\n",
              "      <td>6.037481e+07</td>\n",
              "      <td>0.0</td>\n",
              "      <td>2.0</td>\n",
              "      <td>1955.0</td>\n",
              "      <td>942640.0</td>\n",
              "      <td>2015.0</td>\n",
              "      <td>11525.50</td>\n",
              "      <td>0</td>\n",
              "      <td>1</td>\n",
              "      <td>0</td>\n",
              "      <td>0</td>\n",
              "      <td>0</td>\n",
              "      <td>0</td>\n",
              "      <td>0</td>\n",
              "      <td>0</td>\n",
              "      <td>0</td>\n",
              "      <td>0</td>\n",
              "      <td>0</td>\n",
              "      <td>0</td>\n",
              "      <td>0</td>\n",
              "      <td>0</td>\n",
              "      <td>0</td>\n",
              "      <td>0</td>\n",
              "      <td>0</td>\n",
              "      <td>0</td>\n",
              "      <td>0</td>\n",
              "      <td>0</td>\n",
              "      <td>0</td>\n",
              "      <td>0</td>\n",
              "      <td>...</td>\n",
              "      <td>0</td>\n",
              "      <td>0</td>\n",
              "      <td>0</td>\n",
              "      <td>0</td>\n",
              "      <td>0</td>\n",
              "      <td>0</td>\n",
              "      <td>0</td>\n",
              "      <td>0</td>\n",
              "      <td>0</td>\n",
              "      <td>0</td>\n",
              "      <td>0</td>\n",
              "      <td>0</td>\n",
              "      <td>0</td>\n",
              "      <td>0</td>\n",
              "      <td>0</td>\n",
              "      <td>0</td>\n",
              "      <td>0</td>\n",
              "      <td>0</td>\n",
              "      <td>0</td>\n",
              "      <td>0</td>\n",
              "      <td>0</td>\n",
              "      <td>0</td>\n",
              "      <td>0</td>\n",
              "      <td>0</td>\n",
              "      <td>0</td>\n",
              "      <td>0</td>\n",
              "      <td>0</td>\n",
              "      <td>0</td>\n",
              "      <td>0</td>\n",
              "      <td>0</td>\n",
              "      <td>0</td>\n",
              "      <td>0</td>\n",
              "      <td>0</td>\n",
              "      <td>0</td>\n",
              "      <td>0</td>\n",
              "      <td>0</td>\n",
              "      <td>0</td>\n",
              "      <td>0</td>\n",
              "      <td>0</td>\n",
              "      <td>0</td>\n",
              "    </tr>\n",
              "    <tr>\n",
              "      <th>149284</th>\n",
              "      <td>0.0</td>\n",
              "      <td>2.0</td>\n",
              "      <td>4.0</td>\n",
              "      <td>2012.0</td>\n",
              "      <td>2012.0</td>\n",
              "      <td>2.0</td>\n",
              "      <td>0</td>\n",
              "      <td>2999.0</td>\n",
              "      <td>0.0</td>\n",
              "      <td>0.0</td>\n",
              "      <td>0.0</td>\n",
              "      <td>6.037621e+07</td>\n",
              "      <td>0.0</td>\n",
              "      <td>2.0</td>\n",
              "      <td>1938.0</td>\n",
              "      <td>942501.0</td>\n",
              "      <td>2015.0</td>\n",
              "      <td>10483.01</td>\n",
              "      <td>0</td>\n",
              "      <td>1</td>\n",
              "      <td>0</td>\n",
              "      <td>0</td>\n",
              "      <td>0</td>\n",
              "      <td>0</td>\n",
              "      <td>0</td>\n",
              "      <td>0</td>\n",
              "      <td>0</td>\n",
              "      <td>0</td>\n",
              "      <td>0</td>\n",
              "      <td>0</td>\n",
              "      <td>0</td>\n",
              "      <td>0</td>\n",
              "      <td>0</td>\n",
              "      <td>0</td>\n",
              "      <td>0</td>\n",
              "      <td>0</td>\n",
              "      <td>0</td>\n",
              "      <td>0</td>\n",
              "      <td>0</td>\n",
              "      <td>0</td>\n",
              "      <td>...</td>\n",
              "      <td>0</td>\n",
              "      <td>0</td>\n",
              "      <td>0</td>\n",
              "      <td>0</td>\n",
              "      <td>0</td>\n",
              "      <td>0</td>\n",
              "      <td>0</td>\n",
              "      <td>0</td>\n",
              "      <td>0</td>\n",
              "      <td>0</td>\n",
              "      <td>0</td>\n",
              "      <td>0</td>\n",
              "      <td>0</td>\n",
              "      <td>0</td>\n",
              "      <td>0</td>\n",
              "      <td>0</td>\n",
              "      <td>0</td>\n",
              "      <td>0</td>\n",
              "      <td>0</td>\n",
              "      <td>0</td>\n",
              "      <td>0</td>\n",
              "      <td>0</td>\n",
              "      <td>0</td>\n",
              "      <td>0</td>\n",
              "      <td>0</td>\n",
              "      <td>0</td>\n",
              "      <td>0</td>\n",
              "      <td>0</td>\n",
              "      <td>0</td>\n",
              "      <td>0</td>\n",
              "      <td>0</td>\n",
              "      <td>0</td>\n",
              "      <td>0</td>\n",
              "      <td>0</td>\n",
              "      <td>0</td>\n",
              "      <td>0</td>\n",
              "      <td>0</td>\n",
              "      <td>0</td>\n",
              "      <td>0</td>\n",
              "      <td>0</td>\n",
              "    </tr>\n",
              "  </tbody>\n",
              "</table>\n",
              "<p>5 rows × 508 columns</p>\n",
              "</div>"
            ],
            "text/plain": [
              "        airconditioningtypeid  ...  regionidzip_399675.0\n",
              "112063                    0.0  ...                     0\n",
              "147003                    0.0  ...                     0\n",
              "78960                     0.0  ...                     0\n",
              "12608                     1.0  ...                     0\n",
              "149284                    0.0  ...                     0\n",
              "\n",
              "[5 rows x 508 columns]"
            ]
          },
          "metadata": {
            "tags": []
          },
          "execution_count": 21
        }
      ]
    },
    {
      "cell_type": "code",
      "metadata": {
        "id": "jaEFXpI5qNs7",
        "colab_type": "code",
        "colab": {}
      },
      "source": [
        ""
      ],
      "execution_count": null,
      "outputs": []
    }
  ]
}